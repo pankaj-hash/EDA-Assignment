{
 "cells": [
  {
   "cell_type": "code",
   "execution_count": null,
   "metadata": {},
   "outputs": [],
   "source": [
    "'''Questions to answer.\n",
    "1) Total goal scored by team in all the seasons.\n",
    "2) In which season the team scored most goal and least goal.\n",
    "3) Is in knockout_match, there are more goal instead of non-knockout_match.\n",
    "4) With which power of shot, maximum goal are done.\n",
    "'''"
   ]
  },
  {
   "cell_type": "code",
   "execution_count": 2,
   "metadata": {},
   "outputs": [],
   "source": [
    "#importing all the liberaries\n",
    "import pandas as pd\n",
    "import numpy as np\n",
    "import matplotlib.pyplot as plt\n",
    "import seaborn as sns\n",
    "import warnings \n",
    "warnings.filterwarnings('ignore')"
   ]
  },
  {
   "cell_type": "code",
   "execution_count": 3,
   "metadata": {},
   "outputs": [
    {
     "data": {
      "text/html": [
       "<div>\n",
       "<style scoped>\n",
       "    .dataframe tbody tr th:only-of-type {\n",
       "        vertical-align: middle;\n",
       "    }\n",
       "\n",
       "    .dataframe tbody tr th {\n",
       "        vertical-align: top;\n",
       "    }\n",
       "\n",
       "    .dataframe thead th {\n",
       "        text-align: right;\n",
       "    }\n",
       "</style>\n",
       "<table border=\"1\" class=\"dataframe\">\n",
       "  <thead>\n",
       "    <tr style=\"text-align: right;\">\n",
       "      <th></th>\n",
       "      <th>Unnamed: 0</th>\n",
       "      <th>match_event_id</th>\n",
       "      <th>location_x</th>\n",
       "      <th>location_y</th>\n",
       "      <th>remaining_min</th>\n",
       "      <th>power_of_shot</th>\n",
       "      <th>knockout_match</th>\n",
       "      <th>game_season</th>\n",
       "      <th>remaining_sec</th>\n",
       "      <th>distance_of_shot</th>\n",
       "      <th>...</th>\n",
       "      <th>lat/lng</th>\n",
       "      <th>type_of_shot</th>\n",
       "      <th>type_of_combined_shot</th>\n",
       "      <th>match_id</th>\n",
       "      <th>team_id</th>\n",
       "      <th>remaining_min.1</th>\n",
       "      <th>power_of_shot.1</th>\n",
       "      <th>knockout_match.1</th>\n",
       "      <th>remaining_sec.1</th>\n",
       "      <th>distance_of_shot.1</th>\n",
       "    </tr>\n",
       "  </thead>\n",
       "  <tbody>\n",
       "    <tr>\n",
       "      <th>0</th>\n",
       "      <td>0</td>\n",
       "      <td>10.0</td>\n",
       "      <td>167.0</td>\n",
       "      <td>72.0</td>\n",
       "      <td>10.0</td>\n",
       "      <td>1.0</td>\n",
       "      <td>0.0</td>\n",
       "      <td>2000-01</td>\n",
       "      <td>27.0</td>\n",
       "      <td>38.0</td>\n",
       "      <td>...</td>\n",
       "      <td>45.539131, -122.651648</td>\n",
       "      <td>shot - 30</td>\n",
       "      <td>NaN</td>\n",
       "      <td>20000012</td>\n",
       "      <td>1610612747</td>\n",
       "      <td>10.00</td>\n",
       "      <td>1.0</td>\n",
       "      <td>50.608</td>\n",
       "      <td>54.2000</td>\n",
       "      <td>38.0</td>\n",
       "    </tr>\n",
       "    <tr>\n",
       "      <th>1</th>\n",
       "      <td>1</td>\n",
       "      <td>12.0</td>\n",
       "      <td>-157.0</td>\n",
       "      <td>0.0</td>\n",
       "      <td>10.0</td>\n",
       "      <td>1.0</td>\n",
       "      <td>0.0</td>\n",
       "      <td>2000-01</td>\n",
       "      <td>22.0</td>\n",
       "      <td>35.0</td>\n",
       "      <td>...</td>\n",
       "      <td>45.539131, -122.651648</td>\n",
       "      <td>shot - 45</td>\n",
       "      <td>NaN</td>\n",
       "      <td>20000012</td>\n",
       "      <td>1610612747</td>\n",
       "      <td>10.00</td>\n",
       "      <td>1.0</td>\n",
       "      <td>28.800</td>\n",
       "      <td>22.0000</td>\n",
       "      <td>35.0</td>\n",
       "    </tr>\n",
       "    <tr>\n",
       "      <th>2</th>\n",
       "      <td>2</td>\n",
       "      <td>35.0</td>\n",
       "      <td>-101.0</td>\n",
       "      <td>135.0</td>\n",
       "      <td>7.0</td>\n",
       "      <td>1.0</td>\n",
       "      <td>0.0</td>\n",
       "      <td>2000-01</td>\n",
       "      <td>45.0</td>\n",
       "      <td>36.0</td>\n",
       "      <td>...</td>\n",
       "      <td>45.539131, -122.651648</td>\n",
       "      <td>shot - 25</td>\n",
       "      <td>NaN</td>\n",
       "      <td>20000012</td>\n",
       "      <td>1610612747</td>\n",
       "      <td>92.64</td>\n",
       "      <td>1.0</td>\n",
       "      <td>0.000</td>\n",
       "      <td>63.7216</td>\n",
       "      <td>54.4</td>\n",
       "    </tr>\n",
       "    <tr>\n",
       "      <th>3</th>\n",
       "      <td>3</td>\n",
       "      <td>43.0</td>\n",
       "      <td>138.0</td>\n",
       "      <td>175.0</td>\n",
       "      <td>6.0</td>\n",
       "      <td>1.0</td>\n",
       "      <td>0.0</td>\n",
       "      <td>2000-01</td>\n",
       "      <td>52.0</td>\n",
       "      <td>42.0</td>\n",
       "      <td>...</td>\n",
       "      <td>45.539131, -122.651648</td>\n",
       "      <td>NaN</td>\n",
       "      <td>shot - 3</td>\n",
       "      <td>20000012</td>\n",
       "      <td>1610612747</td>\n",
       "      <td>NaN</td>\n",
       "      <td>1.0</td>\n",
       "      <td>122.608</td>\n",
       "      <td>52.0000</td>\n",
       "      <td>42.0</td>\n",
       "    </tr>\n",
       "    <tr>\n",
       "      <th>4</th>\n",
       "      <td>4</td>\n",
       "      <td>155.0</td>\n",
       "      <td>0.0</td>\n",
       "      <td>0.0</td>\n",
       "      <td>NaN</td>\n",
       "      <td>2.0</td>\n",
       "      <td>0.0</td>\n",
       "      <td>2000-01</td>\n",
       "      <td>19.0</td>\n",
       "      <td>20.0</td>\n",
       "      <td>...</td>\n",
       "      <td>45.539131, -122.651648</td>\n",
       "      <td>NaN</td>\n",
       "      <td>shot - 1</td>\n",
       "      <td>20000012</td>\n",
       "      <td>1610612747</td>\n",
       "      <td>42.64</td>\n",
       "      <td>2.0</td>\n",
       "      <td>0.000</td>\n",
       "      <td>19.0000</td>\n",
       "      <td>20.0</td>\n",
       "    </tr>\n",
       "  </tbody>\n",
       "</table>\n",
       "<p>5 rows × 28 columns</p>\n",
       "</div>"
      ],
      "text/plain": [
       "   Unnamed: 0  match_event_id  location_x  location_y  remaining_min  \\\n",
       "0           0            10.0       167.0        72.0           10.0   \n",
       "1           1            12.0      -157.0         0.0           10.0   \n",
       "2           2            35.0      -101.0       135.0            7.0   \n",
       "3           3            43.0       138.0       175.0            6.0   \n",
       "4           4           155.0         0.0         0.0            NaN   \n",
       "\n",
       "   power_of_shot  knockout_match game_season  remaining_sec  distance_of_shot  \\\n",
       "0            1.0             0.0     2000-01           27.0              38.0   \n",
       "1            1.0             0.0     2000-01           22.0              35.0   \n",
       "2            1.0             0.0     2000-01           45.0              36.0   \n",
       "3            1.0             0.0     2000-01           52.0              42.0   \n",
       "4            2.0             0.0     2000-01           19.0              20.0   \n",
       "\n",
       "   ...                 lat/lng type_of_shot type_of_combined_shot  match_id  \\\n",
       "0  ...  45.539131, -122.651648    shot - 30                   NaN  20000012   \n",
       "1  ...  45.539131, -122.651648    shot - 45                   NaN  20000012   \n",
       "2  ...  45.539131, -122.651648    shot - 25                   NaN  20000012   \n",
       "3  ...  45.539131, -122.651648          NaN              shot - 3  20000012   \n",
       "4  ...  45.539131, -122.651648          NaN              shot - 1  20000012   \n",
       "\n",
       "      team_id remaining_min.1 power_of_shot.1  knockout_match.1  \\\n",
       "0  1610612747           10.00             1.0            50.608   \n",
       "1  1610612747           10.00             1.0            28.800   \n",
       "2  1610612747           92.64             1.0             0.000   \n",
       "3  1610612747             NaN             1.0           122.608   \n",
       "4  1610612747           42.64             2.0             0.000   \n",
       "\n",
       "  remaining_sec.1 distance_of_shot.1  \n",
       "0         54.2000               38.0  \n",
       "1         22.0000               35.0  \n",
       "2         63.7216               54.4  \n",
       "3         52.0000               42.0  \n",
       "4         19.0000               20.0  \n",
       "\n",
       "[5 rows x 28 columns]"
      ]
     },
     "execution_count": 3,
     "metadata": {},
     "output_type": "execute_result"
    }
   ],
   "source": [
    "#Reading the data\n",
    "yds_data = pd.read_csv('yds_data.csv')\n",
    "yds_data.head()"
   ]
  },
  {
   "cell_type": "code",
   "execution_count": 23,
   "metadata": {},
   "outputs": [
    {
     "data": {
      "text/plain": [
       "(30697, 27)"
      ]
     },
     "execution_count": 23,
     "metadata": {},
     "output_type": "execute_result"
    }
   ],
   "source": [
    "yds_data.shape"
   ]
  },
  {
   "cell_type": "code",
   "execution_count": 4,
   "metadata": {},
   "outputs": [
    {
     "data": {
      "text/plain": [
       "Unnamed: 0                 int64\n",
       "match_event_id           float64\n",
       "location_x               float64\n",
       "location_y               float64\n",
       "remaining_min            float64\n",
       "power_of_shot            float64\n",
       "knockout_match           float64\n",
       "game_season               object\n",
       "remaining_sec            float64\n",
       "distance_of_shot         float64\n",
       "is_goal                  float64\n",
       "area_of_shot              object\n",
       "shot_basics               object\n",
       "range_of_shot             object\n",
       "team_name                 object\n",
       "date_of_game              object\n",
       "home/away                 object\n",
       "shot_id_number           float64\n",
       "lat/lng                   object\n",
       "type_of_shot              object\n",
       "type_of_combined_shot     object\n",
       "match_id                   int64\n",
       "team_id                    int64\n",
       "remaining_min.1          float64\n",
       "power_of_shot.1          float64\n",
       "knockout_match.1         float64\n",
       "remaining_sec.1          float64\n",
       "distance_of_shot.1       float64\n",
       "dtype: object"
      ]
     },
     "execution_count": 4,
     "metadata": {},
     "output_type": "execute_result"
    }
   ],
   "source": [
    "yds_data.dtypes"
   ]
  },
  {
   "cell_type": "code",
   "execution_count": 11,
   "metadata": {},
   "outputs": [
    {
     "ename": "KeyError",
     "evalue": "\"['Unnamed: 0'] not found in axis\"",
     "output_type": "error",
     "traceback": [
      "\u001b[0;31m---------------------------------------------------------------------------\u001b[0m",
      "\u001b[0;31mKeyError\u001b[0m                                  Traceback (most recent call last)",
      "\u001b[0;32m<ipython-input-11-c8e5f1356322>\u001b[0m in \u001b[0;36m<module>\u001b[0;34m\u001b[0m\n\u001b[0;32m----> 1\u001b[0;31m \u001b[0myds_data\u001b[0m\u001b[0;34m.\u001b[0m\u001b[0mdrop\u001b[0m\u001b[0;34m(\u001b[0m\u001b[0;34m'Unnamed: 0'\u001b[0m\u001b[0;34m,\u001b[0m\u001b[0minplace\u001b[0m \u001b[0;34m=\u001b[0m \u001b[0;32mTrue\u001b[0m\u001b[0;34m,\u001b[0m \u001b[0maxis\u001b[0m \u001b[0;34m=\u001b[0m \u001b[0;36m1\u001b[0m \u001b[0;34m)\u001b[0m\u001b[0;34m\u001b[0m\u001b[0;34m\u001b[0m\u001b[0m\n\u001b[0m",
      "\u001b[0;32m~/anaconda3/lib/python3.7/site-packages/pandas/core/frame.py\u001b[0m in \u001b[0;36mdrop\u001b[0;34m(self, labels, axis, index, columns, level, inplace, errors)\u001b[0m\n\u001b[1;32m   3995\u001b[0m             \u001b[0mlevel\u001b[0m\u001b[0;34m=\u001b[0m\u001b[0mlevel\u001b[0m\u001b[0;34m,\u001b[0m\u001b[0;34m\u001b[0m\u001b[0;34m\u001b[0m\u001b[0m\n\u001b[1;32m   3996\u001b[0m             \u001b[0minplace\u001b[0m\u001b[0;34m=\u001b[0m\u001b[0minplace\u001b[0m\u001b[0;34m,\u001b[0m\u001b[0;34m\u001b[0m\u001b[0;34m\u001b[0m\u001b[0m\n\u001b[0;32m-> 3997\u001b[0;31m             \u001b[0merrors\u001b[0m\u001b[0;34m=\u001b[0m\u001b[0merrors\u001b[0m\u001b[0;34m,\u001b[0m\u001b[0;34m\u001b[0m\u001b[0;34m\u001b[0m\u001b[0m\n\u001b[0m\u001b[1;32m   3998\u001b[0m         )\n\u001b[1;32m   3999\u001b[0m \u001b[0;34m\u001b[0m\u001b[0m\n",
      "\u001b[0;32m~/anaconda3/lib/python3.7/site-packages/pandas/core/generic.py\u001b[0m in \u001b[0;36mdrop\u001b[0;34m(self, labels, axis, index, columns, level, inplace, errors)\u001b[0m\n\u001b[1;32m   3934\u001b[0m         \u001b[0;32mfor\u001b[0m \u001b[0maxis\u001b[0m\u001b[0;34m,\u001b[0m \u001b[0mlabels\u001b[0m \u001b[0;32min\u001b[0m \u001b[0maxes\u001b[0m\u001b[0;34m.\u001b[0m\u001b[0mitems\u001b[0m\u001b[0;34m(\u001b[0m\u001b[0;34m)\u001b[0m\u001b[0;34m:\u001b[0m\u001b[0;34m\u001b[0m\u001b[0;34m\u001b[0m\u001b[0m\n\u001b[1;32m   3935\u001b[0m             \u001b[0;32mif\u001b[0m \u001b[0mlabels\u001b[0m \u001b[0;32mis\u001b[0m \u001b[0;32mnot\u001b[0m \u001b[0;32mNone\u001b[0m\u001b[0;34m:\u001b[0m\u001b[0;34m\u001b[0m\u001b[0;34m\u001b[0m\u001b[0m\n\u001b[0;32m-> 3936\u001b[0;31m                 \u001b[0mobj\u001b[0m \u001b[0;34m=\u001b[0m \u001b[0mobj\u001b[0m\u001b[0;34m.\u001b[0m\u001b[0m_drop_axis\u001b[0m\u001b[0;34m(\u001b[0m\u001b[0mlabels\u001b[0m\u001b[0;34m,\u001b[0m \u001b[0maxis\u001b[0m\u001b[0;34m,\u001b[0m \u001b[0mlevel\u001b[0m\u001b[0;34m=\u001b[0m\u001b[0mlevel\u001b[0m\u001b[0;34m,\u001b[0m \u001b[0merrors\u001b[0m\u001b[0;34m=\u001b[0m\u001b[0merrors\u001b[0m\u001b[0;34m)\u001b[0m\u001b[0;34m\u001b[0m\u001b[0;34m\u001b[0m\u001b[0m\n\u001b[0m\u001b[1;32m   3937\u001b[0m \u001b[0;34m\u001b[0m\u001b[0m\n\u001b[1;32m   3938\u001b[0m         \u001b[0;32mif\u001b[0m \u001b[0minplace\u001b[0m\u001b[0;34m:\u001b[0m\u001b[0;34m\u001b[0m\u001b[0;34m\u001b[0m\u001b[0m\n",
      "\u001b[0;32m~/anaconda3/lib/python3.7/site-packages/pandas/core/generic.py\u001b[0m in \u001b[0;36m_drop_axis\u001b[0;34m(self, labels, axis, level, errors)\u001b[0m\n\u001b[1;32m   3968\u001b[0m                 \u001b[0mnew_axis\u001b[0m \u001b[0;34m=\u001b[0m \u001b[0maxis\u001b[0m\u001b[0;34m.\u001b[0m\u001b[0mdrop\u001b[0m\u001b[0;34m(\u001b[0m\u001b[0mlabels\u001b[0m\u001b[0;34m,\u001b[0m \u001b[0mlevel\u001b[0m\u001b[0;34m=\u001b[0m\u001b[0mlevel\u001b[0m\u001b[0;34m,\u001b[0m \u001b[0merrors\u001b[0m\u001b[0;34m=\u001b[0m\u001b[0merrors\u001b[0m\u001b[0;34m)\u001b[0m\u001b[0;34m\u001b[0m\u001b[0;34m\u001b[0m\u001b[0m\n\u001b[1;32m   3969\u001b[0m             \u001b[0;32melse\u001b[0m\u001b[0;34m:\u001b[0m\u001b[0;34m\u001b[0m\u001b[0;34m\u001b[0m\u001b[0m\n\u001b[0;32m-> 3970\u001b[0;31m                 \u001b[0mnew_axis\u001b[0m \u001b[0;34m=\u001b[0m \u001b[0maxis\u001b[0m\u001b[0;34m.\u001b[0m\u001b[0mdrop\u001b[0m\u001b[0;34m(\u001b[0m\u001b[0mlabels\u001b[0m\u001b[0;34m,\u001b[0m \u001b[0merrors\u001b[0m\u001b[0;34m=\u001b[0m\u001b[0merrors\u001b[0m\u001b[0;34m)\u001b[0m\u001b[0;34m\u001b[0m\u001b[0;34m\u001b[0m\u001b[0m\n\u001b[0m\u001b[1;32m   3971\u001b[0m             \u001b[0mresult\u001b[0m \u001b[0;34m=\u001b[0m \u001b[0mself\u001b[0m\u001b[0;34m.\u001b[0m\u001b[0mreindex\u001b[0m\u001b[0;34m(\u001b[0m\u001b[0;34m**\u001b[0m\u001b[0;34m{\u001b[0m\u001b[0maxis_name\u001b[0m\u001b[0;34m:\u001b[0m \u001b[0mnew_axis\u001b[0m\u001b[0;34m}\u001b[0m\u001b[0;34m)\u001b[0m\u001b[0;34m\u001b[0m\u001b[0;34m\u001b[0m\u001b[0m\n\u001b[1;32m   3972\u001b[0m \u001b[0;34m\u001b[0m\u001b[0m\n",
      "\u001b[0;32m~/anaconda3/lib/python3.7/site-packages/pandas/core/indexes/base.py\u001b[0m in \u001b[0;36mdrop\u001b[0;34m(self, labels, errors)\u001b[0m\n\u001b[1;32m   5016\u001b[0m         \u001b[0;32mif\u001b[0m \u001b[0mmask\u001b[0m\u001b[0;34m.\u001b[0m\u001b[0many\u001b[0m\u001b[0;34m(\u001b[0m\u001b[0;34m)\u001b[0m\u001b[0;34m:\u001b[0m\u001b[0;34m\u001b[0m\u001b[0;34m\u001b[0m\u001b[0m\n\u001b[1;32m   5017\u001b[0m             \u001b[0;32mif\u001b[0m \u001b[0merrors\u001b[0m \u001b[0;34m!=\u001b[0m \u001b[0;34m\"ignore\"\u001b[0m\u001b[0;34m:\u001b[0m\u001b[0;34m\u001b[0m\u001b[0;34m\u001b[0m\u001b[0m\n\u001b[0;32m-> 5018\u001b[0;31m                 \u001b[0;32mraise\u001b[0m \u001b[0mKeyError\u001b[0m\u001b[0;34m(\u001b[0m\u001b[0;34mf\"{labels[mask]} not found in axis\"\u001b[0m\u001b[0;34m)\u001b[0m\u001b[0;34m\u001b[0m\u001b[0;34m\u001b[0m\u001b[0m\n\u001b[0m\u001b[1;32m   5019\u001b[0m             \u001b[0mindexer\u001b[0m \u001b[0;34m=\u001b[0m \u001b[0mindexer\u001b[0m\u001b[0;34m[\u001b[0m\u001b[0;34m~\u001b[0m\u001b[0mmask\u001b[0m\u001b[0;34m]\u001b[0m\u001b[0;34m\u001b[0m\u001b[0;34m\u001b[0m\u001b[0m\n\u001b[1;32m   5020\u001b[0m         \u001b[0;32mreturn\u001b[0m \u001b[0mself\u001b[0m\u001b[0;34m.\u001b[0m\u001b[0mdelete\u001b[0m\u001b[0;34m(\u001b[0m\u001b[0mindexer\u001b[0m\u001b[0;34m)\u001b[0m\u001b[0;34m\u001b[0m\u001b[0;34m\u001b[0m\u001b[0m\n",
      "\u001b[0;31mKeyError\u001b[0m: \"['Unnamed: 0'] not found in axis\""
     ]
    }
   ],
   "source": [
    "yds_data.drop('Unnamed: 0',inplace = True, axis = 1 )"
   ]
  },
  {
   "cell_type": "code",
   "execution_count": 12,
   "metadata": {},
   "outputs": [
    {
     "data": {
      "text/html": [
       "<div>\n",
       "<style scoped>\n",
       "    .dataframe tbody tr th:only-of-type {\n",
       "        vertical-align: middle;\n",
       "    }\n",
       "\n",
       "    .dataframe tbody tr th {\n",
       "        vertical-align: top;\n",
       "    }\n",
       "\n",
       "    .dataframe thead th {\n",
       "        text-align: right;\n",
       "    }\n",
       "</style>\n",
       "<table border=\"1\" class=\"dataframe\">\n",
       "  <thead>\n",
       "    <tr style=\"text-align: right;\">\n",
       "      <th></th>\n",
       "      <th>match_event_id</th>\n",
       "      <th>location_x</th>\n",
       "      <th>location_y</th>\n",
       "      <th>remaining_min</th>\n",
       "      <th>power_of_shot</th>\n",
       "      <th>knockout_match</th>\n",
       "      <th>game_season</th>\n",
       "      <th>remaining_sec</th>\n",
       "      <th>distance_of_shot</th>\n",
       "      <th>is_goal</th>\n",
       "      <th>...</th>\n",
       "      <th>lat/lng</th>\n",
       "      <th>type_of_shot</th>\n",
       "      <th>type_of_combined_shot</th>\n",
       "      <th>match_id</th>\n",
       "      <th>team_id</th>\n",
       "      <th>remaining_min.1</th>\n",
       "      <th>power_of_shot.1</th>\n",
       "      <th>knockout_match.1</th>\n",
       "      <th>remaining_sec.1</th>\n",
       "      <th>distance_of_shot.1</th>\n",
       "    </tr>\n",
       "  </thead>\n",
       "  <tbody>\n",
       "    <tr>\n",
       "      <th>0</th>\n",
       "      <td>10.0</td>\n",
       "      <td>167.0</td>\n",
       "      <td>72.0</td>\n",
       "      <td>10.0</td>\n",
       "      <td>1.0</td>\n",
       "      <td>0.0</td>\n",
       "      <td>2000-01</td>\n",
       "      <td>27.0</td>\n",
       "      <td>38.0</td>\n",
       "      <td>NaN</td>\n",
       "      <td>...</td>\n",
       "      <td>45.539131, -122.651648</td>\n",
       "      <td>shot - 30</td>\n",
       "      <td>NaN</td>\n",
       "      <td>20000012</td>\n",
       "      <td>1610612747</td>\n",
       "      <td>10.00</td>\n",
       "      <td>1.0</td>\n",
       "      <td>50.608</td>\n",
       "      <td>54.2000</td>\n",
       "      <td>38.0</td>\n",
       "    </tr>\n",
       "    <tr>\n",
       "      <th>1</th>\n",
       "      <td>12.0</td>\n",
       "      <td>-157.0</td>\n",
       "      <td>0.0</td>\n",
       "      <td>10.0</td>\n",
       "      <td>1.0</td>\n",
       "      <td>0.0</td>\n",
       "      <td>2000-01</td>\n",
       "      <td>22.0</td>\n",
       "      <td>35.0</td>\n",
       "      <td>0.0</td>\n",
       "      <td>...</td>\n",
       "      <td>45.539131, -122.651648</td>\n",
       "      <td>shot - 45</td>\n",
       "      <td>NaN</td>\n",
       "      <td>20000012</td>\n",
       "      <td>1610612747</td>\n",
       "      <td>10.00</td>\n",
       "      <td>1.0</td>\n",
       "      <td>28.800</td>\n",
       "      <td>22.0000</td>\n",
       "      <td>35.0</td>\n",
       "    </tr>\n",
       "    <tr>\n",
       "      <th>2</th>\n",
       "      <td>35.0</td>\n",
       "      <td>-101.0</td>\n",
       "      <td>135.0</td>\n",
       "      <td>7.0</td>\n",
       "      <td>1.0</td>\n",
       "      <td>0.0</td>\n",
       "      <td>2000-01</td>\n",
       "      <td>45.0</td>\n",
       "      <td>36.0</td>\n",
       "      <td>1.0</td>\n",
       "      <td>...</td>\n",
       "      <td>45.539131, -122.651648</td>\n",
       "      <td>shot - 25</td>\n",
       "      <td>NaN</td>\n",
       "      <td>20000012</td>\n",
       "      <td>1610612747</td>\n",
       "      <td>92.64</td>\n",
       "      <td>1.0</td>\n",
       "      <td>0.000</td>\n",
       "      <td>63.7216</td>\n",
       "      <td>54.4</td>\n",
       "    </tr>\n",
       "    <tr>\n",
       "      <th>3</th>\n",
       "      <td>43.0</td>\n",
       "      <td>138.0</td>\n",
       "      <td>175.0</td>\n",
       "      <td>6.0</td>\n",
       "      <td>1.0</td>\n",
       "      <td>0.0</td>\n",
       "      <td>2000-01</td>\n",
       "      <td>52.0</td>\n",
       "      <td>42.0</td>\n",
       "      <td>0.0</td>\n",
       "      <td>...</td>\n",
       "      <td>45.539131, -122.651648</td>\n",
       "      <td>NaN</td>\n",
       "      <td>shot - 3</td>\n",
       "      <td>20000012</td>\n",
       "      <td>1610612747</td>\n",
       "      <td>NaN</td>\n",
       "      <td>1.0</td>\n",
       "      <td>122.608</td>\n",
       "      <td>52.0000</td>\n",
       "      <td>42.0</td>\n",
       "    </tr>\n",
       "    <tr>\n",
       "      <th>4</th>\n",
       "      <td>155.0</td>\n",
       "      <td>0.0</td>\n",
       "      <td>0.0</td>\n",
       "      <td>NaN</td>\n",
       "      <td>2.0</td>\n",
       "      <td>0.0</td>\n",
       "      <td>2000-01</td>\n",
       "      <td>19.0</td>\n",
       "      <td>20.0</td>\n",
       "      <td>1.0</td>\n",
       "      <td>...</td>\n",
       "      <td>45.539131, -122.651648</td>\n",
       "      <td>NaN</td>\n",
       "      <td>shot - 1</td>\n",
       "      <td>20000012</td>\n",
       "      <td>1610612747</td>\n",
       "      <td>42.64</td>\n",
       "      <td>2.0</td>\n",
       "      <td>0.000</td>\n",
       "      <td>19.0000</td>\n",
       "      <td>20.0</td>\n",
       "    </tr>\n",
       "  </tbody>\n",
       "</table>\n",
       "<p>5 rows × 27 columns</p>\n",
       "</div>"
      ],
      "text/plain": [
       "   match_event_id  location_x  location_y  remaining_min  power_of_shot  \\\n",
       "0            10.0       167.0        72.0           10.0            1.0   \n",
       "1            12.0      -157.0         0.0           10.0            1.0   \n",
       "2            35.0      -101.0       135.0            7.0            1.0   \n",
       "3            43.0       138.0       175.0            6.0            1.0   \n",
       "4           155.0         0.0         0.0            NaN            2.0   \n",
       "\n",
       "   knockout_match game_season  remaining_sec  distance_of_shot  is_goal  ...  \\\n",
       "0             0.0     2000-01           27.0              38.0      NaN  ...   \n",
       "1             0.0     2000-01           22.0              35.0      0.0  ...   \n",
       "2             0.0     2000-01           45.0              36.0      1.0  ...   \n",
       "3             0.0     2000-01           52.0              42.0      0.0  ...   \n",
       "4             0.0     2000-01           19.0              20.0      1.0  ...   \n",
       "\n",
       "                  lat/lng type_of_shot type_of_combined_shot  match_id  \\\n",
       "0  45.539131, -122.651648    shot - 30                   NaN  20000012   \n",
       "1  45.539131, -122.651648    shot - 45                   NaN  20000012   \n",
       "2  45.539131, -122.651648    shot - 25                   NaN  20000012   \n",
       "3  45.539131, -122.651648          NaN              shot - 3  20000012   \n",
       "4  45.539131, -122.651648          NaN              shot - 1  20000012   \n",
       "\n",
       "      team_id remaining_min.1  power_of_shot.1 knockout_match.1  \\\n",
       "0  1610612747           10.00              1.0           50.608   \n",
       "1  1610612747           10.00              1.0           28.800   \n",
       "2  1610612747           92.64              1.0            0.000   \n",
       "3  1610612747             NaN              1.0          122.608   \n",
       "4  1610612747           42.64              2.0            0.000   \n",
       "\n",
       "  remaining_sec.1 distance_of_shot.1  \n",
       "0         54.2000               38.0  \n",
       "1         22.0000               35.0  \n",
       "2         63.7216               54.4  \n",
       "3         52.0000               42.0  \n",
       "4         19.0000               20.0  \n",
       "\n",
       "[5 rows x 27 columns]"
      ]
     },
     "execution_count": 12,
     "metadata": {},
     "output_type": "execute_result"
    }
   ],
   "source": [
    "yds_data.head()"
   ]
  },
  {
   "cell_type": "code",
   "execution_count": 13,
   "metadata": {},
   "outputs": [
    {
     "data": {
      "text/plain": [
       "match_event_id           float64\n",
       "location_x               float64\n",
       "location_y               float64\n",
       "remaining_min            float64\n",
       "power_of_shot            float64\n",
       "knockout_match           float64\n",
       "game_season               object\n",
       "remaining_sec            float64\n",
       "distance_of_shot         float64\n",
       "is_goal                  float64\n",
       "area_of_shot              object\n",
       "shot_basics               object\n",
       "range_of_shot             object\n",
       "team_name                 object\n",
       "date_of_game              object\n",
       "home/away                 object\n",
       "shot_id_number           float64\n",
       "lat/lng                   object\n",
       "type_of_shot              object\n",
       "type_of_combined_shot     object\n",
       "match_id                   int64\n",
       "team_id                    int64\n",
       "remaining_min.1          float64\n",
       "power_of_shot.1          float64\n",
       "knockout_match.1         float64\n",
       "remaining_sec.1          float64\n",
       "distance_of_shot.1       float64\n",
       "dtype: object"
      ]
     },
     "execution_count": 13,
     "metadata": {},
     "output_type": "execute_result"
    }
   ],
   "source": [
    "yds_data.dtypes"
   ]
  },
  {
   "cell_type": "code",
   "execution_count": 14,
   "metadata": {},
   "outputs": [
    {
     "ename": "AttributeError",
     "evalue": "'DataFrame' object has no attribute 'describes'",
     "output_type": "error",
     "traceback": [
      "\u001b[0;31m---------------------------------------------------------------------------\u001b[0m",
      "\u001b[0;31mAttributeError\u001b[0m                            Traceback (most recent call last)",
      "\u001b[0;32m<ipython-input-14-77de334f51aa>\u001b[0m in \u001b[0;36m<module>\u001b[0;34m\u001b[0m\n\u001b[0;32m----> 1\u001b[0;31m \u001b[0myds_data\u001b[0m\u001b[0;34m.\u001b[0m\u001b[0mdescribes\u001b[0m\u001b[0;34m(\u001b[0m\u001b[0;34m)\u001b[0m\u001b[0;34m\u001b[0m\u001b[0;34m\u001b[0m\u001b[0m\n\u001b[0m",
      "\u001b[0;32m~/anaconda3/lib/python3.7/site-packages/pandas/core/generic.py\u001b[0m in \u001b[0;36m__getattr__\u001b[0;34m(self, name)\u001b[0m\n\u001b[1;32m   5272\u001b[0m             \u001b[0;32mif\u001b[0m \u001b[0mself\u001b[0m\u001b[0;34m.\u001b[0m\u001b[0m_info_axis\u001b[0m\u001b[0;34m.\u001b[0m\u001b[0m_can_hold_identifiers_and_holds_name\u001b[0m\u001b[0;34m(\u001b[0m\u001b[0mname\u001b[0m\u001b[0;34m)\u001b[0m\u001b[0;34m:\u001b[0m\u001b[0;34m\u001b[0m\u001b[0;34m\u001b[0m\u001b[0m\n\u001b[1;32m   5273\u001b[0m                 \u001b[0;32mreturn\u001b[0m \u001b[0mself\u001b[0m\u001b[0;34m[\u001b[0m\u001b[0mname\u001b[0m\u001b[0;34m]\u001b[0m\u001b[0;34m\u001b[0m\u001b[0;34m\u001b[0m\u001b[0m\n\u001b[0;32m-> 5274\u001b[0;31m             \u001b[0;32mreturn\u001b[0m \u001b[0mobject\u001b[0m\u001b[0;34m.\u001b[0m\u001b[0m__getattribute__\u001b[0m\u001b[0;34m(\u001b[0m\u001b[0mself\u001b[0m\u001b[0;34m,\u001b[0m \u001b[0mname\u001b[0m\u001b[0;34m)\u001b[0m\u001b[0;34m\u001b[0m\u001b[0;34m\u001b[0m\u001b[0m\n\u001b[0m\u001b[1;32m   5275\u001b[0m \u001b[0;34m\u001b[0m\u001b[0m\n\u001b[1;32m   5276\u001b[0m     \u001b[0;32mdef\u001b[0m \u001b[0m__setattr__\u001b[0m\u001b[0;34m(\u001b[0m\u001b[0mself\u001b[0m\u001b[0;34m,\u001b[0m \u001b[0mname\u001b[0m\u001b[0;34m:\u001b[0m \u001b[0mstr\u001b[0m\u001b[0;34m,\u001b[0m \u001b[0mvalue\u001b[0m\u001b[0;34m)\u001b[0m \u001b[0;34m->\u001b[0m \u001b[0;32mNone\u001b[0m\u001b[0;34m:\u001b[0m\u001b[0;34m\u001b[0m\u001b[0;34m\u001b[0m\u001b[0m\n",
      "\u001b[0;31mAttributeError\u001b[0m: 'DataFrame' object has no attribute 'describes'"
     ]
    }
   ],
   "source": [
    "yds_data.describes()"
   ]
  },
  {
   "cell_type": "code",
   "execution_count": 15,
   "metadata": {},
   "outputs": [
    {
     "data": {
      "text/html": [
       "<div>\n",
       "<style scoped>\n",
       "    .dataframe tbody tr th:only-of-type {\n",
       "        vertical-align: middle;\n",
       "    }\n",
       "\n",
       "    .dataframe tbody tr th {\n",
       "        vertical-align: top;\n",
       "    }\n",
       "\n",
       "    .dataframe thead th {\n",
       "        text-align: right;\n",
       "    }\n",
       "</style>\n",
       "<table border=\"1\" class=\"dataframe\">\n",
       "  <thead>\n",
       "    <tr style=\"text-align: right;\">\n",
       "      <th></th>\n",
       "      <th>match_event_id</th>\n",
       "      <th>location_x</th>\n",
       "      <th>location_y</th>\n",
       "      <th>remaining_min</th>\n",
       "      <th>power_of_shot</th>\n",
       "      <th>knockout_match</th>\n",
       "      <th>remaining_sec</th>\n",
       "      <th>distance_of_shot</th>\n",
       "      <th>is_goal</th>\n",
       "      <th>shot_id_number</th>\n",
       "      <th>match_id</th>\n",
       "      <th>team_id</th>\n",
       "      <th>remaining_min.1</th>\n",
       "      <th>power_of_shot.1</th>\n",
       "      <th>knockout_match.1</th>\n",
       "      <th>remaining_sec.1</th>\n",
       "      <th>distance_of_shot.1</th>\n",
       "    </tr>\n",
       "  </thead>\n",
       "  <tbody>\n",
       "    <tr>\n",
       "      <th>count</th>\n",
       "      <td>29134.000000</td>\n",
       "      <td>29236.000000</td>\n",
       "      <td>29157.000000</td>\n",
       "      <td>29135.000000</td>\n",
       "      <td>29211.000000</td>\n",
       "      <td>29180.000000</td>\n",
       "      <td>29103.000000</td>\n",
       "      <td>29130.000000</td>\n",
       "      <td>24429.000000</td>\n",
       "      <td>29134.000000</td>\n",
       "      <td>3.069700e+04</td>\n",
       "      <td>3.069700e+04</td>\n",
       "      <td>29162.000000</td>\n",
       "      <td>29158.000000</td>\n",
       "      <td>29204.000000</td>\n",
       "      <td>29158.000000</td>\n",
       "      <td>29129.000000</td>\n",
       "    </tr>\n",
       "    <tr>\n",
       "      <th>mean</th>\n",
       "      <td>249.576028</td>\n",
       "      <td>7.383876</td>\n",
       "      <td>91.126933</td>\n",
       "      <td>4.883233</td>\n",
       "      <td>2.519359</td>\n",
       "      <td>0.145956</td>\n",
       "      <td>28.329382</td>\n",
       "      <td>33.448884</td>\n",
       "      <td>0.445331</td>\n",
       "      <td>15368.581039</td>\n",
       "      <td>2.476407e+07</td>\n",
       "      <td>1.610613e+09</td>\n",
       "      <td>18.204615</td>\n",
       "      <td>15.994109</td>\n",
       "      <td>16.599402</td>\n",
       "      <td>39.027303</td>\n",
       "      <td>38.801852</td>\n",
       "    </tr>\n",
       "    <tr>\n",
       "      <th>std</th>\n",
       "      <td>150.186019</td>\n",
       "      <td>110.263049</td>\n",
       "      <td>87.676395</td>\n",
       "      <td>3.452533</td>\n",
       "      <td>1.153976</td>\n",
       "      <td>0.353068</td>\n",
       "      <td>17.470663</td>\n",
       "      <td>9.369656</td>\n",
       "      <td>0.497013</td>\n",
       "      <td>8866.520772</td>\n",
       "      <td>7.755175e+06</td>\n",
       "      <td>0.000000e+00</td>\n",
       "      <td>29.416973</td>\n",
       "      <td>29.676815</td>\n",
       "      <td>35.172016</td>\n",
       "      <td>29.835284</td>\n",
       "      <td>18.787711</td>\n",
       "    </tr>\n",
       "    <tr>\n",
       "      <th>min</th>\n",
       "      <td>2.000000</td>\n",
       "      <td>-250.000000</td>\n",
       "      <td>-44.000000</td>\n",
       "      <td>0.000000</td>\n",
       "      <td>1.000000</td>\n",
       "      <td>0.000000</td>\n",
       "      <td>0.000000</td>\n",
       "      <td>20.000000</td>\n",
       "      <td>0.000000</td>\n",
       "      <td>1.000000</td>\n",
       "      <td>2.000001e+07</td>\n",
       "      <td>1.610613e+09</td>\n",
       "      <td>0.000000</td>\n",
       "      <td>1.000000</td>\n",
       "      <td>0.000000</td>\n",
       "      <td>0.000000</td>\n",
       "      <td>9.400000</td>\n",
       "    </tr>\n",
       "    <tr>\n",
       "      <th>25%</th>\n",
       "      <td>111.000000</td>\n",
       "      <td>-68.000000</td>\n",
       "      <td>4.000000</td>\n",
       "      <td>2.000000</td>\n",
       "      <td>1.000000</td>\n",
       "      <td>0.000000</td>\n",
       "      <td>13.000000</td>\n",
       "      <td>25.000000</td>\n",
       "      <td>0.000000</td>\n",
       "      <td>7693.250000</td>\n",
       "      <td>2.050008e+07</td>\n",
       "      <td>1.610613e+09</td>\n",
       "      <td>3.000000</td>\n",
       "      <td>2.000000</td>\n",
       "      <td>0.000000</td>\n",
       "      <td>17.000000</td>\n",
       "      <td>26.000000</td>\n",
       "    </tr>\n",
       "    <tr>\n",
       "      <th>50%</th>\n",
       "      <td>254.000000</td>\n",
       "      <td>0.000000</td>\n",
       "      <td>74.000000</td>\n",
       "      <td>5.000000</td>\n",
       "      <td>3.000000</td>\n",
       "      <td>0.000000</td>\n",
       "      <td>28.000000</td>\n",
       "      <td>35.000000</td>\n",
       "      <td>0.000000</td>\n",
       "      <td>15378.500000</td>\n",
       "      <td>2.090035e+07</td>\n",
       "      <td>1.610613e+09</td>\n",
       "      <td>6.000000</td>\n",
       "      <td>3.000000</td>\n",
       "      <td>0.000000</td>\n",
       "      <td>35.000000</td>\n",
       "      <td>36.000000</td>\n",
       "    </tr>\n",
       "    <tr>\n",
       "      <th>75%</th>\n",
       "      <td>369.000000</td>\n",
       "      <td>95.000000</td>\n",
       "      <td>160.000000</td>\n",
       "      <td>8.000000</td>\n",
       "      <td>3.000000</td>\n",
       "      <td>0.000000</td>\n",
       "      <td>43.000000</td>\n",
       "      <td>41.000000</td>\n",
       "      <td>1.000000</td>\n",
       "      <td>23055.750000</td>\n",
       "      <td>2.960047e+07</td>\n",
       "      <td>1.610613e+09</td>\n",
       "      <td>11.000000</td>\n",
       "      <td>4.000000</td>\n",
       "      <td>1.000000</td>\n",
       "      <td>52.000000</td>\n",
       "      <td>44.000000</td>\n",
       "    </tr>\n",
       "    <tr>\n",
       "      <th>max</th>\n",
       "      <td>659.000000</td>\n",
       "      <td>248.000000</td>\n",
       "      <td>791.000000</td>\n",
       "      <td>11.000000</td>\n",
       "      <td>7.000000</td>\n",
       "      <td>1.000000</td>\n",
       "      <td>59.000000</td>\n",
       "      <td>99.000000</td>\n",
       "      <td>1.000000</td>\n",
       "      <td>30697.000000</td>\n",
       "      <td>4.990009e+07</td>\n",
       "      <td>1.610613e+09</td>\n",
       "      <td>128.761600</td>\n",
       "      <td>118.360000</td>\n",
       "      <td>141.352320</td>\n",
       "      <td>144.785600</td>\n",
       "      <td>115.728000</td>\n",
       "    </tr>\n",
       "  </tbody>\n",
       "</table>\n",
       "</div>"
      ],
      "text/plain": [
       "       match_event_id    location_x    location_y  remaining_min  \\\n",
       "count    29134.000000  29236.000000  29157.000000   29135.000000   \n",
       "mean       249.576028      7.383876     91.126933       4.883233   \n",
       "std        150.186019    110.263049     87.676395       3.452533   \n",
       "min          2.000000   -250.000000    -44.000000       0.000000   \n",
       "25%        111.000000    -68.000000      4.000000       2.000000   \n",
       "50%        254.000000      0.000000     74.000000       5.000000   \n",
       "75%        369.000000     95.000000    160.000000       8.000000   \n",
       "max        659.000000    248.000000    791.000000      11.000000   \n",
       "\n",
       "       power_of_shot  knockout_match  remaining_sec  distance_of_shot  \\\n",
       "count   29211.000000    29180.000000   29103.000000      29130.000000   \n",
       "mean        2.519359        0.145956      28.329382         33.448884   \n",
       "std         1.153976        0.353068      17.470663          9.369656   \n",
       "min         1.000000        0.000000       0.000000         20.000000   \n",
       "25%         1.000000        0.000000      13.000000         25.000000   \n",
       "50%         3.000000        0.000000      28.000000         35.000000   \n",
       "75%         3.000000        0.000000      43.000000         41.000000   \n",
       "max         7.000000        1.000000      59.000000         99.000000   \n",
       "\n",
       "            is_goal  shot_id_number      match_id       team_id  \\\n",
       "count  24429.000000    29134.000000  3.069700e+04  3.069700e+04   \n",
       "mean       0.445331    15368.581039  2.476407e+07  1.610613e+09   \n",
       "std        0.497013     8866.520772  7.755175e+06  0.000000e+00   \n",
       "min        0.000000        1.000000  2.000001e+07  1.610613e+09   \n",
       "25%        0.000000     7693.250000  2.050008e+07  1.610613e+09   \n",
       "50%        0.000000    15378.500000  2.090035e+07  1.610613e+09   \n",
       "75%        1.000000    23055.750000  2.960047e+07  1.610613e+09   \n",
       "max        1.000000    30697.000000  4.990009e+07  1.610613e+09   \n",
       "\n",
       "       remaining_min.1  power_of_shot.1  knockout_match.1  remaining_sec.1  \\\n",
       "count     29162.000000     29158.000000      29204.000000     29158.000000   \n",
       "mean         18.204615        15.994109         16.599402        39.027303   \n",
       "std          29.416973        29.676815         35.172016        29.835284   \n",
       "min           0.000000         1.000000          0.000000         0.000000   \n",
       "25%           3.000000         2.000000          0.000000        17.000000   \n",
       "50%           6.000000         3.000000          0.000000        35.000000   \n",
       "75%          11.000000         4.000000          1.000000        52.000000   \n",
       "max         128.761600       118.360000        141.352320       144.785600   \n",
       "\n",
       "       distance_of_shot.1  \n",
       "count        29129.000000  \n",
       "mean            38.801852  \n",
       "std             18.787711  \n",
       "min              9.400000  \n",
       "25%             26.000000  \n",
       "50%             36.000000  \n",
       "75%             44.000000  \n",
       "max            115.728000  "
      ]
     },
     "execution_count": 15,
     "metadata": {},
     "output_type": "execute_result"
    }
   ],
   "source": [
    "yds_data.describe()"
   ]
  },
  {
   "cell_type": "markdown",
   "metadata": {},
   "source": [
    "'''There are missing value are presents in many columns like match_event_id, location_x etc'''"
   ]
  },
  {
   "cell_type": "code",
   "execution_count": 17,
   "metadata": {},
   "outputs": [],
   "source": [
    "columns=yds_data.dtypes[yds_data.dtypes=='object'].index #filtering columns which are object data type"
   ]
  },
  {
   "cell_type": "code",
   "execution_count": 19,
   "metadata": {},
   "outputs": [
    {
     "data": {
      "text/html": [
       "<div>\n",
       "<style scoped>\n",
       "    .dataframe tbody tr th:only-of-type {\n",
       "        vertical-align: middle;\n",
       "    }\n",
       "\n",
       "    .dataframe tbody tr th {\n",
       "        vertical-align: top;\n",
       "    }\n",
       "\n",
       "    .dataframe thead th {\n",
       "        text-align: right;\n",
       "    }\n",
       "</style>\n",
       "<table border=\"1\" class=\"dataframe\">\n",
       "  <thead>\n",
       "    <tr style=\"text-align: right;\">\n",
       "      <th></th>\n",
       "      <th>game_season</th>\n",
       "      <th>area_of_shot</th>\n",
       "      <th>shot_basics</th>\n",
       "      <th>range_of_shot</th>\n",
       "      <th>team_name</th>\n",
       "      <th>date_of_game</th>\n",
       "      <th>home/away</th>\n",
       "      <th>lat/lng</th>\n",
       "      <th>type_of_shot</th>\n",
       "      <th>type_of_combined_shot</th>\n",
       "    </tr>\n",
       "  </thead>\n",
       "  <tbody>\n",
       "    <tr>\n",
       "      <th>count</th>\n",
       "      <td>24835</td>\n",
       "      <td>29195</td>\n",
       "      <td>29122</td>\n",
       "      <td>29133</td>\n",
       "      <td>29162</td>\n",
       "      <td>29147</td>\n",
       "      <td>29200</td>\n",
       "      <td>29132</td>\n",
       "      <td>15417</td>\n",
       "      <td>15280</td>\n",
       "    </tr>\n",
       "    <tr>\n",
       "      <th>unique</th>\n",
       "      <td>20</td>\n",
       "      <td>6</td>\n",
       "      <td>7</td>\n",
       "      <td>5</td>\n",
       "      <td>1</td>\n",
       "      <td>1558</td>\n",
       "      <td>74</td>\n",
       "      <td>38</td>\n",
       "      <td>57</td>\n",
       "      <td>6</td>\n",
       "    </tr>\n",
       "    <tr>\n",
       "      <th>top</th>\n",
       "      <td>2005-06</td>\n",
       "      <td>Center(C)</td>\n",
       "      <td>Mid Range</td>\n",
       "      <td>Less Than 8 ft.</td>\n",
       "      <td>Manchester United</td>\n",
       "      <td>2016-04-13</td>\n",
       "      <td>MANU @ SAS</td>\n",
       "      <td>42.982923, -71.446094</td>\n",
       "      <td>shot - 39</td>\n",
       "      <td>shot - 3</td>\n",
       "    </tr>\n",
       "    <tr>\n",
       "      <th>freq</th>\n",
       "      <td>1911</td>\n",
       "      <td>12761</td>\n",
       "      <td>11955</td>\n",
       "      <td>8933</td>\n",
       "      <td>29162</td>\n",
       "      <td>49</td>\n",
       "      <td>971</td>\n",
       "      <td>14171</td>\n",
       "      <td>1445</td>\n",
       "      <td>11685</td>\n",
       "    </tr>\n",
       "  </tbody>\n",
       "</table>\n",
       "</div>"
      ],
      "text/plain": [
       "       game_season area_of_shot shot_basics    range_of_shot  \\\n",
       "count        24835        29195       29122            29133   \n",
       "unique          20            6           7                5   \n",
       "top        2005-06    Center(C)   Mid Range  Less Than 8 ft.   \n",
       "freq          1911        12761       11955             8933   \n",
       "\n",
       "                team_name date_of_game   home/away                lat/lng  \\\n",
       "count               29162        29147       29200                  29132   \n",
       "unique                  1         1558          74                     38   \n",
       "top     Manchester United   2016-04-13  MANU @ SAS  42.982923, -71.446094   \n",
       "freq                29162           49         971                  14171   \n",
       "\n",
       "       type_of_shot type_of_combined_shot  \n",
       "count         15417                 15280  \n",
       "unique           57                     6  \n",
       "top       shot - 39              shot - 3  \n",
       "freq           1445                 11685  "
      ]
     },
     "execution_count": 19,
     "metadata": {},
     "output_type": "execute_result"
    }
   ],
   "source": [
    "yds_data[columns].describe()"
   ]
  },
  {
   "cell_type": "markdown",
   "metadata": {},
   "source": [
    "'''There are also missing value in these columns '''"
   ]
  },
  {
   "cell_type": "code",
   "execution_count": 21,
   "metadata": {},
   "outputs": [
    {
     "data": {
      "text/plain": [
       "match_event_id            5.091703\n",
       "location_x                4.759423\n",
       "location_y                5.016777\n",
       "remaining_min             5.088445\n",
       "power_of_shot             4.840864\n",
       "knockout_match            4.941851\n",
       "game_season              19.096329\n",
       "remaining_sec             5.192690\n",
       "distance_of_shot          5.104733\n",
       "is_goal                  20.418933\n",
       "area_of_shot              4.892986\n",
       "shot_basics               5.130795\n",
       "range_of_shot             5.094960\n",
       "team_name                 5.000489\n",
       "date_of_game              5.049353\n",
       "home/away                 4.876698\n",
       "shot_id_number            5.091703\n",
       "lat/lng                   5.098218\n",
       "type_of_shot             49.776851\n",
       "type_of_combined_shot    50.223149\n",
       "match_id                  0.000000\n",
       "team_id                   0.000000\n",
       "remaining_min.1           5.000489\n",
       "power_of_shot.1           5.013519\n",
       "knockout_match.1          4.863667\n",
       "remaining_sec.1           5.013519\n",
       "distance_of_shot.1        5.107991\n",
       "dtype: float64"
      ]
     },
     "execution_count": 21,
     "metadata": {},
     "output_type": "execute_result"
    }
   ],
   "source": [
    "(yds_data.isnull().sum()/len(yds_data))*100"
   ]
  },
  {
   "cell_type": "code",
   "execution_count": null,
   "metadata": {},
   "outputs": [],
   "source": [
    "'''Here type_of_shot and type_of_combined_shot have about 50% data missing. So these columns have no use.\n",
    "We have to drop them.'''"
   ]
  },
  {
   "cell_type": "code",
   "execution_count": 24,
   "metadata": {},
   "outputs": [],
   "source": [
    "columns = ['type_of_shot','type_of_combined_shot']"
   ]
  },
  {
   "cell_type": "code",
   "execution_count": 25,
   "metadata": {},
   "outputs": [],
   "source": [
    "yds_data.drop(columns,inplace = True, axis = 1)"
   ]
  },
  {
   "cell_type": "code",
   "execution_count": 28,
   "metadata": {},
   "outputs": [
    {
     "data": {
      "text/plain": [
       "match_event_id          618\n",
       "location_x              488\n",
       "location_y              450\n",
       "remaining_min            12\n",
       "power_of_shot             7\n",
       "knockout_match            2\n",
       "game_season              20\n",
       "remaining_sec            60\n",
       "distance_of_shot         73\n",
       "is_goal                   2\n",
       "area_of_shot              6\n",
       "shot_basics               7\n",
       "range_of_shot             5\n",
       "team_name                 1\n",
       "date_of_game           1558\n",
       "home/away                74\n",
       "shot_id_number        29134\n",
       "lat/lng                  38\n",
       "match_id               1559\n",
       "team_id                   1\n",
       "remaining_min.1         291\n",
       "power_of_shot.1         206\n",
       "knockout_match.1        382\n",
       "remaining_sec.1         354\n",
       "distance_of_shot.1      271\n",
       "dtype: int64"
      ]
     },
     "execution_count": 28,
     "metadata": {},
     "output_type": "execute_result"
    }
   ],
   "source": [
    "#looking at what columns are not significant for model training\n",
    "yds_data.nunique()"
   ]
  },
  {
   "cell_type": "code",
   "execution_count": null,
   "metadata": {},
   "outputs": [],
   "source": [
    "'''Here team_name,team_id,team_name has one unique value. So there is no need of these columns.\n",
    "Also shot_id_number,match_id,match_event_id are also of no use in prediction. Date_of_game is also not important'''"
   ]
  },
  {
   "cell_type": "code",
   "execution_count": 94,
   "metadata": {},
   "outputs": [],
   "source": [
    "yds_data.drop('date_of_game',inplace = True, axis = 1)"
   ]
  },
  {
   "cell_type": "code",
   "execution_count": 29,
   "metadata": {},
   "outputs": [],
   "source": [
    "columns = ['team_name','team_id']\n",
    "yds_data.drop(columns,inplace = True, axis = 1)"
   ]
  },
  {
   "cell_type": "code",
   "execution_count": 30,
   "metadata": {},
   "outputs": [],
   "source": [
    "columns = ['shot_id_number','match_id','match_event_id']\n",
    "yds_data.drop(columns,inplace = True, axis = 1)"
   ]
  },
  {
   "cell_type": "code",
   "execution_count": 31,
   "metadata": {},
   "outputs": [
    {
     "data": {
      "text/plain": [
       "location_x            float64\n",
       "location_y            float64\n",
       "remaining_min         float64\n",
       "power_of_shot         float64\n",
       "knockout_match        float64\n",
       "game_season            object\n",
       "remaining_sec         float64\n",
       "distance_of_shot      float64\n",
       "is_goal               float64\n",
       "area_of_shot           object\n",
       "shot_basics            object\n",
       "range_of_shot          object\n",
       "date_of_game           object\n",
       "home/away              object\n",
       "lat/lng                object\n",
       "remaining_min.1       float64\n",
       "power_of_shot.1       float64\n",
       "knockout_match.1      float64\n",
       "remaining_sec.1       float64\n",
       "distance_of_shot.1    float64\n",
       "dtype: object"
      ]
     },
     "execution_count": 31,
     "metadata": {},
     "output_type": "execute_result"
    }
   ],
   "source": [
    "yds_data.dtypes"
   ]
  },
  {
   "cell_type": "code",
   "execution_count": null,
   "metadata": {},
   "outputs": [],
   "source": [
    "'''finding the correlation between data, correlation tells us \n",
    "by how much a certain value will change based upon change in another value\n",
    "1 means perfect positive correlation and -1 means perfect negative correlation'''"
   ]
  },
  {
   "cell_type": "code",
   "execution_count": 32,
   "metadata": {},
   "outputs": [
    {
     "data": {
      "text/html": [
       "<div>\n",
       "<style scoped>\n",
       "    .dataframe tbody tr th:only-of-type {\n",
       "        vertical-align: middle;\n",
       "    }\n",
       "\n",
       "    .dataframe tbody tr th {\n",
       "        vertical-align: top;\n",
       "    }\n",
       "\n",
       "    .dataframe thead th {\n",
       "        text-align: right;\n",
       "    }\n",
       "</style>\n",
       "<table border=\"1\" class=\"dataframe\">\n",
       "  <thead>\n",
       "    <tr style=\"text-align: right;\">\n",
       "      <th></th>\n",
       "      <th>location_x</th>\n",
       "      <th>location_y</th>\n",
       "      <th>remaining_min</th>\n",
       "      <th>power_of_shot</th>\n",
       "      <th>knockout_match</th>\n",
       "      <th>remaining_sec</th>\n",
       "      <th>distance_of_shot</th>\n",
       "      <th>is_goal</th>\n",
       "      <th>remaining_min.1</th>\n",
       "      <th>power_of_shot.1</th>\n",
       "      <th>knockout_match.1</th>\n",
       "      <th>remaining_sec.1</th>\n",
       "      <th>distance_of_shot.1</th>\n",
       "    </tr>\n",
       "  </thead>\n",
       "  <tbody>\n",
       "    <tr>\n",
       "      <th>location_x</th>\n",
       "      <td>1.000000</td>\n",
       "      <td>-0.014907</td>\n",
       "      <td>0.007889</td>\n",
       "      <td>-0.028939</td>\n",
       "      <td>-0.012840</td>\n",
       "      <td>0.001631</td>\n",
       "      <td>0.023483</td>\n",
       "      <td>-0.004728</td>\n",
       "      <td>0.002110</td>\n",
       "      <td>-0.000150</td>\n",
       "      <td>0.005408</td>\n",
       "      <td>0.006466</td>\n",
       "      <td>0.004695</td>\n",
       "    </tr>\n",
       "    <tr>\n",
       "      <th>location_y</th>\n",
       "      <td>-0.014907</td>\n",
       "      <td>1.000000</td>\n",
       "      <td>-0.074579</td>\n",
       "      <td>0.041263</td>\n",
       "      <td>0.001962</td>\n",
       "      <td>-0.050964</td>\n",
       "      <td>0.818727</td>\n",
       "      <td>-0.145413</td>\n",
       "      <td>-0.010678</td>\n",
       "      <td>-0.000933</td>\n",
       "      <td>0.009672</td>\n",
       "      <td>-0.022644</td>\n",
       "      <td>0.323209</td>\n",
       "    </tr>\n",
       "    <tr>\n",
       "      <th>remaining_min</th>\n",
       "      <td>0.007889</td>\n",
       "      <td>-0.074579</td>\n",
       "      <td>1.000000</td>\n",
       "      <td>-0.043992</td>\n",
       "      <td>0.014806</td>\n",
       "      <td>0.026664</td>\n",
       "      <td>-0.058495</td>\n",
       "      <td>0.028342</td>\n",
       "      <td>0.098414</td>\n",
       "      <td>-0.004447</td>\n",
       "      <td>-0.010549</td>\n",
       "      <td>0.016655</td>\n",
       "      <td>-0.022925</td>\n",
       "    </tr>\n",
       "    <tr>\n",
       "      <th>power_of_shot</th>\n",
       "      <td>-0.028939</td>\n",
       "      <td>0.041263</td>\n",
       "      <td>-0.043992</td>\n",
       "      <td>1.000000</td>\n",
       "      <td>0.010686</td>\n",
       "      <td>0.003066</td>\n",
       "      <td>0.046184</td>\n",
       "      <td>-0.034698</td>\n",
       "      <td>-0.018268</td>\n",
       "      <td>0.026339</td>\n",
       "      <td>-0.003296</td>\n",
       "      <td>0.007004</td>\n",
       "      <td>0.023045</td>\n",
       "    </tr>\n",
       "    <tr>\n",
       "      <th>knockout_match</th>\n",
       "      <td>-0.012840</td>\n",
       "      <td>0.001962</td>\n",
       "      <td>0.014806</td>\n",
       "      <td>0.010686</td>\n",
       "      <td>1.000000</td>\n",
       "      <td>-0.000886</td>\n",
       "      <td>-0.009546</td>\n",
       "      <td>0.001152</td>\n",
       "      <td>0.005961</td>\n",
       "      <td>0.001193</td>\n",
       "      <td>0.009470</td>\n",
       "      <td>-0.003515</td>\n",
       "      <td>0.000299</td>\n",
       "    </tr>\n",
       "    <tr>\n",
       "      <th>remaining_sec</th>\n",
       "      <td>0.001631</td>\n",
       "      <td>-0.050964</td>\n",
       "      <td>0.026664</td>\n",
       "      <td>0.003066</td>\n",
       "      <td>-0.000886</td>\n",
       "      <td>1.000000</td>\n",
       "      <td>-0.049875</td>\n",
       "      <td>0.028964</td>\n",
       "      <td>0.006628</td>\n",
       "      <td>0.002475</td>\n",
       "      <td>0.002258</td>\n",
       "      <td>0.464134</td>\n",
       "      <td>-0.018455</td>\n",
       "    </tr>\n",
       "    <tr>\n",
       "      <th>distance_of_shot</th>\n",
       "      <td>0.023483</td>\n",
       "      <td>0.818727</td>\n",
       "      <td>-0.058495</td>\n",
       "      <td>0.046184</td>\n",
       "      <td>-0.009546</td>\n",
       "      <td>-0.049875</td>\n",
       "      <td>1.000000</td>\n",
       "      <td>-0.198234</td>\n",
       "      <td>-0.006094</td>\n",
       "      <td>0.000784</td>\n",
       "      <td>0.006642</td>\n",
       "      <td>-0.025477</td>\n",
       "      <td>0.398123</td>\n",
       "    </tr>\n",
       "    <tr>\n",
       "      <th>is_goal</th>\n",
       "      <td>-0.004728</td>\n",
       "      <td>-0.145413</td>\n",
       "      <td>0.028342</td>\n",
       "      <td>-0.034698</td>\n",
       "      <td>0.001152</td>\n",
       "      <td>0.028964</td>\n",
       "      <td>-0.198234</td>\n",
       "      <td>1.000000</td>\n",
       "      <td>0.008384</td>\n",
       "      <td>-0.001363</td>\n",
       "      <td>-0.001224</td>\n",
       "      <td>0.012209</td>\n",
       "      <td>-0.075195</td>\n",
       "    </tr>\n",
       "    <tr>\n",
       "      <th>remaining_min.1</th>\n",
       "      <td>0.002110</td>\n",
       "      <td>-0.010678</td>\n",
       "      <td>0.098414</td>\n",
       "      <td>-0.018268</td>\n",
       "      <td>0.005961</td>\n",
       "      <td>0.006628</td>\n",
       "      <td>-0.006094</td>\n",
       "      <td>0.008384</td>\n",
       "      <td>1.000000</td>\n",
       "      <td>-0.000642</td>\n",
       "      <td>0.001780</td>\n",
       "      <td>0.019363</td>\n",
       "      <td>-0.012790</td>\n",
       "    </tr>\n",
       "    <tr>\n",
       "      <th>power_of_shot.1</th>\n",
       "      <td>-0.000150</td>\n",
       "      <td>-0.000933</td>\n",
       "      <td>-0.004447</td>\n",
       "      <td>0.026339</td>\n",
       "      <td>0.001193</td>\n",
       "      <td>0.002475</td>\n",
       "      <td>0.000784</td>\n",
       "      <td>-0.001363</td>\n",
       "      <td>-0.000642</td>\n",
       "      <td>1.000000</td>\n",
       "      <td>-0.006052</td>\n",
       "      <td>0.006970</td>\n",
       "      <td>0.002725</td>\n",
       "    </tr>\n",
       "    <tr>\n",
       "      <th>knockout_match.1</th>\n",
       "      <td>0.005408</td>\n",
       "      <td>0.009672</td>\n",
       "      <td>-0.010549</td>\n",
       "      <td>-0.003296</td>\n",
       "      <td>0.009470</td>\n",
       "      <td>0.002258</td>\n",
       "      <td>0.006642</td>\n",
       "      <td>-0.001224</td>\n",
       "      <td>0.001780</td>\n",
       "      <td>-0.006052</td>\n",
       "      <td>1.000000</td>\n",
       "      <td>0.004459</td>\n",
       "      <td>-0.000589</td>\n",
       "    </tr>\n",
       "    <tr>\n",
       "      <th>remaining_sec.1</th>\n",
       "      <td>0.006466</td>\n",
       "      <td>-0.022644</td>\n",
       "      <td>0.016655</td>\n",
       "      <td>0.007004</td>\n",
       "      <td>-0.003515</td>\n",
       "      <td>0.464134</td>\n",
       "      <td>-0.025477</td>\n",
       "      <td>0.012209</td>\n",
       "      <td>0.019363</td>\n",
       "      <td>0.006970</td>\n",
       "      <td>0.004459</td>\n",
       "      <td>1.000000</td>\n",
       "      <td>-0.008911</td>\n",
       "    </tr>\n",
       "    <tr>\n",
       "      <th>distance_of_shot.1</th>\n",
       "      <td>0.004695</td>\n",
       "      <td>0.323209</td>\n",
       "      <td>-0.022925</td>\n",
       "      <td>0.023045</td>\n",
       "      <td>0.000299</td>\n",
       "      <td>-0.018455</td>\n",
       "      <td>0.398123</td>\n",
       "      <td>-0.075195</td>\n",
       "      <td>-0.012790</td>\n",
       "      <td>0.002725</td>\n",
       "      <td>-0.000589</td>\n",
       "      <td>-0.008911</td>\n",
       "      <td>1.000000</td>\n",
       "    </tr>\n",
       "  </tbody>\n",
       "</table>\n",
       "</div>"
      ],
      "text/plain": [
       "                    location_x  location_y  remaining_min  power_of_shot  \\\n",
       "location_x            1.000000   -0.014907       0.007889      -0.028939   \n",
       "location_y           -0.014907    1.000000      -0.074579       0.041263   \n",
       "remaining_min         0.007889   -0.074579       1.000000      -0.043992   \n",
       "power_of_shot        -0.028939    0.041263      -0.043992       1.000000   \n",
       "knockout_match       -0.012840    0.001962       0.014806       0.010686   \n",
       "remaining_sec         0.001631   -0.050964       0.026664       0.003066   \n",
       "distance_of_shot      0.023483    0.818727      -0.058495       0.046184   \n",
       "is_goal              -0.004728   -0.145413       0.028342      -0.034698   \n",
       "remaining_min.1       0.002110   -0.010678       0.098414      -0.018268   \n",
       "power_of_shot.1      -0.000150   -0.000933      -0.004447       0.026339   \n",
       "knockout_match.1      0.005408    0.009672      -0.010549      -0.003296   \n",
       "remaining_sec.1       0.006466   -0.022644       0.016655       0.007004   \n",
       "distance_of_shot.1    0.004695    0.323209      -0.022925       0.023045   \n",
       "\n",
       "                    knockout_match  remaining_sec  distance_of_shot   is_goal  \\\n",
       "location_x               -0.012840       0.001631          0.023483 -0.004728   \n",
       "location_y                0.001962      -0.050964          0.818727 -0.145413   \n",
       "remaining_min             0.014806       0.026664         -0.058495  0.028342   \n",
       "power_of_shot             0.010686       0.003066          0.046184 -0.034698   \n",
       "knockout_match            1.000000      -0.000886         -0.009546  0.001152   \n",
       "remaining_sec            -0.000886       1.000000         -0.049875  0.028964   \n",
       "distance_of_shot         -0.009546      -0.049875          1.000000 -0.198234   \n",
       "is_goal                   0.001152       0.028964         -0.198234  1.000000   \n",
       "remaining_min.1           0.005961       0.006628         -0.006094  0.008384   \n",
       "power_of_shot.1           0.001193       0.002475          0.000784 -0.001363   \n",
       "knockout_match.1          0.009470       0.002258          0.006642 -0.001224   \n",
       "remaining_sec.1          -0.003515       0.464134         -0.025477  0.012209   \n",
       "distance_of_shot.1        0.000299      -0.018455          0.398123 -0.075195   \n",
       "\n",
       "                    remaining_min.1  power_of_shot.1  knockout_match.1  \\\n",
       "location_x                 0.002110        -0.000150          0.005408   \n",
       "location_y                -0.010678        -0.000933          0.009672   \n",
       "remaining_min              0.098414        -0.004447         -0.010549   \n",
       "power_of_shot             -0.018268         0.026339         -0.003296   \n",
       "knockout_match             0.005961         0.001193          0.009470   \n",
       "remaining_sec              0.006628         0.002475          0.002258   \n",
       "distance_of_shot          -0.006094         0.000784          0.006642   \n",
       "is_goal                    0.008384        -0.001363         -0.001224   \n",
       "remaining_min.1            1.000000        -0.000642          0.001780   \n",
       "power_of_shot.1           -0.000642         1.000000         -0.006052   \n",
       "knockout_match.1           0.001780        -0.006052          1.000000   \n",
       "remaining_sec.1            0.019363         0.006970          0.004459   \n",
       "distance_of_shot.1        -0.012790         0.002725         -0.000589   \n",
       "\n",
       "                    remaining_sec.1  distance_of_shot.1  \n",
       "location_x                 0.006466            0.004695  \n",
       "location_y                -0.022644            0.323209  \n",
       "remaining_min              0.016655           -0.022925  \n",
       "power_of_shot              0.007004            0.023045  \n",
       "knockout_match            -0.003515            0.000299  \n",
       "remaining_sec              0.464134           -0.018455  \n",
       "distance_of_shot          -0.025477            0.398123  \n",
       "is_goal                    0.012209           -0.075195  \n",
       "remaining_min.1            0.019363           -0.012790  \n",
       "power_of_shot.1            0.006970            0.002725  \n",
       "knockout_match.1           0.004459           -0.000589  \n",
       "remaining_sec.1            1.000000           -0.008911  \n",
       "distance_of_shot.1        -0.008911            1.000000  "
      ]
     },
     "execution_count": 32,
     "metadata": {},
     "output_type": "execute_result"
    }
   ],
   "source": [
    "yds_data.corr()"
   ]
  },
  {
   "cell_type": "code",
   "execution_count": null,
   "metadata": {},
   "outputs": [],
   "source": [
    "'''location_y is strongly correlated with distance_of_shot with correlation of 0.818727. remaining_sec and remaining_sec.1 has correlation\n",
    "of 0.464134 '''"
   ]
  },
  {
   "cell_type": "code",
   "execution_count": 33,
   "metadata": {},
   "outputs": [
    {
     "data": {
      "text/plain": [
       "Index(['location_x', 'location_y', 'remaining_min', 'power_of_shot',\n",
       "       'knockout_match', 'game_season', 'remaining_sec', 'distance_of_shot',\n",
       "       'is_goal', 'area_of_shot', 'shot_basics', 'range_of_shot',\n",
       "       'date_of_game', 'home/away', 'lat/lng', 'remaining_min.1',\n",
       "       'power_of_shot.1', 'knockout_match.1', 'remaining_sec.1',\n",
       "       'distance_of_shot.1'],\n",
       "      dtype='object')"
      ]
     },
     "execution_count": 33,
     "metadata": {},
     "output_type": "execute_result"
    }
   ],
   "source": [
    "yds_data.columns"
   ]
  },
  {
   "cell_type": "markdown",
   "metadata": {},
   "source": [
    "# Total goal scored by team in all the seasons."
   ]
  },
  {
   "cell_type": "code",
   "execution_count": 35,
   "metadata": {},
   "outputs": [
    {
     "data": {
      "text/plain": [
       "<matplotlib.axes._subplots.AxesSubplot at 0x7fa2152c2190>"
      ]
     },
     "execution_count": 35,
     "metadata": {},
     "output_type": "execute_result"
    },
    {
     "data": {
      "image/png": "[encoded data removed]",
      "text/plain": [
       "<Figure size 432x288 with 1 Axes>"
      ]
     },
     "metadata": {
      "needs_background": "light"
     },
     "output_type": "display_data"
    }
   ],
   "source": [
    "yds_data['is_goal'].value_counts().plot.bar()"
   ]
  },
  {
   "cell_type": "code",
   "execution_count": 55,
   "metadata": {},
   "outputs": [
    {
     "data": {
      "text/plain": [
       "0.0    13550\n",
       "1.0    10879\n",
       "Name: is_goal, dtype: int64"
      ]
     },
     "execution_count": 55,
     "metadata": {},
     "output_type": "execute_result"
    }
   ],
   "source": [
    "yds_data['is_goal'].value_counts()"
   ]
  },
  {
   "cell_type": "code",
   "execution_count": null,
   "metadata": {},
   "outputs": [],
   "source": [
    "'''There are 10879 goals done by the team'''"
   ]
  },
  {
   "cell_type": "code",
   "execution_count": 36,
   "metadata": {},
   "outputs": [
    {
     "data": {
      "text/plain": [
       "2005-06    1911\n",
       "2002-03    1823\n",
       "2008-09    1810\n",
       "2007-08    1733\n",
       "2009-10    1665\n",
       "2001-02    1632\n",
       "2006-07    1537\n",
       "2000-01    1488\n",
       "2010-11    1462\n",
       "2003-04    1329\n",
       "2011-12    1326\n",
       "2012-13    1296\n",
       "1999-00    1264\n",
       "2004-05    1074\n",
       "2015-16     893\n",
       "1997-98     804\n",
       "1998-99     752\n",
       "2014-15     594\n",
       "1996-97     381\n",
       "2013-14      61\n",
       "Name: game_season, dtype: int64"
      ]
     },
     "execution_count": 36,
     "metadata": {},
     "output_type": "execute_result"
    }
   ],
   "source": [
    "yds_data['game_season'].value_counts()"
   ]
  },
  {
   "cell_type": "markdown",
   "metadata": {},
   "source": [
    "# In which season the team scored most goal."
   ]
  },
  {
   "cell_type": "code",
   "execution_count": 43,
   "metadata": {},
   "outputs": [
    {
     "data": {
      "text/html": [
       "<div>\n",
       "<style scoped>\n",
       "    .dataframe tbody tr th:only-of-type {\n",
       "        vertical-align: middle;\n",
       "    }\n",
       "\n",
       "    .dataframe tbody tr th {\n",
       "        vertical-align: top;\n",
       "    }\n",
       "\n",
       "    .dataframe thead th {\n",
       "        text-align: right;\n",
       "    }\n",
       "</style>\n",
       "<table border=\"1\" class=\"dataframe\">\n",
       "  <thead>\n",
       "    <tr style=\"text-align: right;\">\n",
       "      <th>is_goal</th>\n",
       "      <th>0.0</th>\n",
       "      <th>1.0</th>\n",
       "    </tr>\n",
       "    <tr>\n",
       "      <th>game_season</th>\n",
       "      <th></th>\n",
       "      <th></th>\n",
       "    </tr>\n",
       "  </thead>\n",
       "  <tbody>\n",
       "    <tr>\n",
       "      <th>1996-97</th>\n",
       "      <td>168</td>\n",
       "      <td>123</td>\n",
       "    </tr>\n",
       "    <tr>\n",
       "      <th>1997-98</th>\n",
       "      <td>361</td>\n",
       "      <td>266</td>\n",
       "    </tr>\n",
       "    <tr>\n",
       "      <th>1998-99</th>\n",
       "      <td>314</td>\n",
       "      <td>276</td>\n",
       "    </tr>\n",
       "    <tr>\n",
       "      <th>1999-00</th>\n",
       "      <td>542</td>\n",
       "      <td>450</td>\n",
       "    </tr>\n",
       "    <tr>\n",
       "      <th>2000-01</th>\n",
       "      <td>637</td>\n",
       "      <td>558</td>\n",
       "    </tr>\n",
       "    <tr>\n",
       "      <th>2001-02</th>\n",
       "      <td>693</td>\n",
       "      <td>617</td>\n",
       "    </tr>\n",
       "    <tr>\n",
       "      <th>2002-03</th>\n",
       "      <td>804</td>\n",
       "      <td>625</td>\n",
       "    </tr>\n",
       "    <tr>\n",
       "      <th>2003-04</th>\n",
       "      <td>587</td>\n",
       "      <td>460</td>\n",
       "    </tr>\n",
       "    <tr>\n",
       "      <th>2004-05</th>\n",
       "      <td>488</td>\n",
       "      <td>383</td>\n",
       "    </tr>\n",
       "    <tr>\n",
       "      <th>2005-06</th>\n",
       "      <td>823</td>\n",
       "      <td>673</td>\n",
       "    </tr>\n",
       "    <tr>\n",
       "      <th>2006-07</th>\n",
       "      <td>667</td>\n",
       "      <td>566</td>\n",
       "    </tr>\n",
       "    <tr>\n",
       "      <th>2007-08</th>\n",
       "      <td>759</td>\n",
       "      <td>644</td>\n",
       "    </tr>\n",
       "    <tr>\n",
       "      <th>2008-09</th>\n",
       "      <td>761</td>\n",
       "      <td>655</td>\n",
       "    </tr>\n",
       "    <tr>\n",
       "      <th>2009-10</th>\n",
       "      <td>751</td>\n",
       "      <td>623</td>\n",
       "    </tr>\n",
       "    <tr>\n",
       "      <th>2010-11</th>\n",
       "      <td>647</td>\n",
       "      <td>506</td>\n",
       "    </tr>\n",
       "    <tr>\n",
       "      <th>2011-12</th>\n",
       "      <td>640</td>\n",
       "      <td>453</td>\n",
       "    </tr>\n",
       "    <tr>\n",
       "      <th>2012-13</th>\n",
       "      <td>572</td>\n",
       "      <td>472</td>\n",
       "    </tr>\n",
       "    <tr>\n",
       "      <th>2013-14</th>\n",
       "      <td>28</td>\n",
       "      <td>17</td>\n",
       "    </tr>\n",
       "    <tr>\n",
       "      <th>2014-15</th>\n",
       "      <td>301</td>\n",
       "      <td>173</td>\n",
       "    </tr>\n",
       "    <tr>\n",
       "      <th>2015-16</th>\n",
       "      <td>459</td>\n",
       "      <td>255</td>\n",
       "    </tr>\n",
       "  </tbody>\n",
       "</table>\n",
       "</div>"
      ],
      "text/plain": [
       "is_goal      0.0  1.0\n",
       "game_season          \n",
       "1996-97      168  123\n",
       "1997-98      361  266\n",
       "1998-99      314  276\n",
       "1999-00      542  450\n",
       "2000-01      637  558\n",
       "2001-02      693  617\n",
       "2002-03      804  625\n",
       "2003-04      587  460\n",
       "2004-05      488  383\n",
       "2005-06      823  673\n",
       "2006-07      667  566\n",
       "2007-08      759  644\n",
       "2008-09      761  655\n",
       "2009-10      751  623\n",
       "2010-11      647  506\n",
       "2011-12      640  453\n",
       "2012-13      572  472\n",
       "2013-14       28   17\n",
       "2014-15      301  173\n",
       "2015-16      459  255"
      ]
     },
     "execution_count": 43,
     "metadata": {},
     "output_type": "execute_result"
    }
   ],
   "source": [
    "pd.crosstab(yds_data['game_season'],yds_data['is_goal'])"
   ]
  },
  {
   "cell_type": "code",
   "execution_count": 42,
   "metadata": {},
   "outputs": [
    {
     "data": {
      "text/plain": [
       "<matplotlib.axes._subplots.AxesSubplot at 0x7fa215a0cad0>"
      ]
     },
     "execution_count": 42,
     "metadata": {},
     "output_type": "execute_result"
    },
    {
     "data": {
      "image/png": "[encoded data removed]",
      "text/plain": [
       "<Figure size 432x288 with 1 Axes>"
      ]
     },
     "metadata": {
      "needs_background": "light"
     },
     "output_type": "display_data"
    }
   ],
   "source": [
    "pd.crosstab(yds_data['game_season'],yds_data['is_goal']).plot.bar()"
   ]
  },
  {
   "cell_type": "code",
   "execution_count": null,
   "metadata": {},
   "outputs": [],
   "source": [
    "'''The most goal is done by team in the season 2005-06 that is 673\n",
    " and least goal is in season 2013-14 that is 17'''"
   ]
  },
  {
   "cell_type": "code",
   "execution_count": 54,
   "metadata": {},
   "outputs": [
    {
     "data": {
      "text/html": [
       "<div>\n",
       "<style scoped>\n",
       "    .dataframe tbody tr th:only-of-type {\n",
       "        vertical-align: middle;\n",
       "    }\n",
       "\n",
       "    .dataframe tbody tr th {\n",
       "        vertical-align: top;\n",
       "    }\n",
       "\n",
       "    .dataframe thead th {\n",
       "        text-align: right;\n",
       "    }\n",
       "</style>\n",
       "<table border=\"1\" class=\"dataframe\">\n",
       "  <thead>\n",
       "    <tr style=\"text-align: right;\">\n",
       "      <th>is_goal</th>\n",
       "      <th>0.0</th>\n",
       "      <th>1.0</th>\n",
       "    </tr>\n",
       "    <tr>\n",
       "      <th>lat/lng</th>\n",
       "      <th></th>\n",
       "      <th></th>\n",
       "    </tr>\n",
       "  </thead>\n",
       "  <tbody>\n",
       "    <tr>\n",
       "      <th>25.790710, -80.207819</th>\n",
       "      <td>122</td>\n",
       "      <td>96</td>\n",
       "    </tr>\n",
       "    <tr>\n",
       "      <th>28.549237, -81.372780</th>\n",
       "      <td>174</td>\n",
       "      <td>132</td>\n",
       "    </tr>\n",
       "    <tr>\n",
       "      <th>29.444994, -98.524120</th>\n",
       "      <td>433</td>\n",
       "      <td>338</td>\n",
       "    </tr>\n",
       "    <tr>\n",
       "      <th>29.740325, -95.365762</th>\n",
       "      <td>360</td>\n",
       "      <td>246</td>\n",
       "    </tr>\n",
       "    <tr>\n",
       "      <th>30.018061, -90.022651</th>\n",
       "      <td>123</td>\n",
       "      <td>91</td>\n",
       "    </tr>\n",
       "    <tr>\n",
       "      <th>30.028164, -89.997933</th>\n",
       "      <td>54</td>\n",
       "      <td>40</td>\n",
       "    </tr>\n",
       "    <tr>\n",
       "      <th>30.055498, -89.960838</th>\n",
       "      <td>40</td>\n",
       "      <td>23</td>\n",
       "    </tr>\n",
       "    <tr>\n",
       "      <th>32.757824, -96.786653</th>\n",
       "      <td>275</td>\n",
       "      <td>210</td>\n",
       "    </tr>\n",
       "    <tr>\n",
       "      <th>33.513157, -112.082793</th>\n",
       "      <td>18</td>\n",
       "      <td>8</td>\n",
       "    </tr>\n",
       "    <tr>\n",
       "      <th>33.552026, -112.071667</th>\n",
       "      <td>378</td>\n",
       "      <td>318</td>\n",
       "    </tr>\n",
       "    <tr>\n",
       "      <th>33.768092, -84.393817</th>\n",
       "      <td>128</td>\n",
       "      <td>97</td>\n",
       "    </tr>\n",
       "    <tr>\n",
       "      <th>34.189593, -118.471724</th>\n",
       "      <td>264</td>\n",
       "      <td>219</td>\n",
       "    </tr>\n",
       "    <tr>\n",
       "      <th>35.103812, -89.964007</th>\n",
       "      <td>217</td>\n",
       "      <td>182</td>\n",
       "    </tr>\n",
       "    <tr>\n",
       "      <th>35.205878, -80.841194</th>\n",
       "      <td>31</td>\n",
       "      <td>17</td>\n",
       "    </tr>\n",
       "    <tr>\n",
       "      <th>35.262047, -80.865746</th>\n",
       "      <td>85</td>\n",
       "      <td>76</td>\n",
       "    </tr>\n",
       "    <tr>\n",
       "      <th>35.492151, -97.519011</th>\n",
       "      <td>134</td>\n",
       "      <td>101</td>\n",
       "    </tr>\n",
       "    <tr>\n",
       "      <th>37.754130, -122.437947</th>\n",
       "      <td>291</td>\n",
       "      <td>234</td>\n",
       "    </tr>\n",
       "    <tr>\n",
       "      <th>38.567296, -121.456638</th>\n",
       "      <td>369</td>\n",
       "      <td>312</td>\n",
       "    </tr>\n",
       "    <tr>\n",
       "      <th>38.919619, -77.015211</th>\n",
       "      <td>147</td>\n",
       "      <td>98</td>\n",
       "    </tr>\n",
       "    <tr>\n",
       "      <th>39.739968, -104.954013</th>\n",
       "      <td>350</td>\n",
       "      <td>282</td>\n",
       "    </tr>\n",
       "    <tr>\n",
       "      <th>39.993941, -75.143458</th>\n",
       "      <td>177</td>\n",
       "      <td>129</td>\n",
       "    </tr>\n",
       "    <tr>\n",
       "      <th>40.324211, -111.674849</th>\n",
       "      <td>7</td>\n",
       "      <td>6</td>\n",
       "    </tr>\n",
       "    <tr>\n",
       "      <th>40.361408, -86.186052</th>\n",
       "      <td>151</td>\n",
       "      <td>98</td>\n",
       "    </tr>\n",
       "    <tr>\n",
       "      <th>40.623199, -73.951223</th>\n",
       "      <td>20</td>\n",
       "      <td>11</td>\n",
       "    </tr>\n",
       "    <tr>\n",
       "      <th>40.643505, -73.939507</th>\n",
       "      <td>116</td>\n",
       "      <td>85</td>\n",
       "    </tr>\n",
       "    <tr>\n",
       "      <th>40.708999, -73.872430</th>\n",
       "      <td>141</td>\n",
       "      <td>111</td>\n",
       "    </tr>\n",
       "    <tr>\n",
       "      <th>40.774891, -111.930790</th>\n",
       "      <td>334</td>\n",
       "      <td>217</td>\n",
       "    </tr>\n",
       "    <tr>\n",
       "      <th>41.484971, -81.671552</th>\n",
       "      <td>143</td>\n",
       "      <td>104</td>\n",
       "    </tr>\n",
       "    <tr>\n",
       "      <th>41.845137, -87.660450</th>\n",
       "      <td>137</td>\n",
       "      <td>102</td>\n",
       "    </tr>\n",
       "    <tr>\n",
       "      <th>42.330507, -71.074655</th>\n",
       "      <td>234</td>\n",
       "      <td>160</td>\n",
       "    </tr>\n",
       "    <tr>\n",
       "      <th>42.379455, -83.115635</th>\n",
       "      <td>162</td>\n",
       "      <td>118</td>\n",
       "    </tr>\n",
       "    <tr>\n",
       "      <th>42.982923, -71.446094</th>\n",
       "      <td>6159</td>\n",
       "      <td>5097</td>\n",
       "    </tr>\n",
       "    <tr>\n",
       "      <th>43.062206, -87.944754</th>\n",
       "      <td>127</td>\n",
       "      <td>90</td>\n",
       "    </tr>\n",
       "    <tr>\n",
       "      <th>43.717098, -79.395917</th>\n",
       "      <td>132</td>\n",
       "      <td>120</td>\n",
       "    </tr>\n",
       "    <tr>\n",
       "      <th>45.539131, -122.651648</th>\n",
       "      <td>320</td>\n",
       "      <td>284</td>\n",
       "    </tr>\n",
       "    <tr>\n",
       "      <th>46.667324, -94.419250</th>\n",
       "      <td>314</td>\n",
       "      <td>243</td>\n",
       "    </tr>\n",
       "    <tr>\n",
       "      <th>47.633181, -122.308343</th>\n",
       "      <td>171</td>\n",
       "      <td>153</td>\n",
       "    </tr>\n",
       "    <tr>\n",
       "      <th>49.250068, -123.114646</th>\n",
       "      <td>47</td>\n",
       "      <td>49</td>\n",
       "    </tr>\n",
       "  </tbody>\n",
       "</table>\n",
       "</div>"
      ],
      "text/plain": [
       "is_goal                  0.0   1.0\n",
       "lat/lng                           \n",
       "25.790710, -80.207819    122    96\n",
       "28.549237, -81.372780    174   132\n",
       "29.444994, -98.524120    433   338\n",
       "29.740325, -95.365762    360   246\n",
       "30.018061, -90.022651    123    91\n",
       "30.028164, -89.997933     54    40\n",
       "30.055498, -89.960838     40    23\n",
       "32.757824, -96.786653    275   210\n",
       "33.513157, -112.082793    18     8\n",
       "33.552026, -112.071667   378   318\n",
       "33.768092, -84.393817    128    97\n",
       "34.189593, -118.471724   264   219\n",
       "35.103812, -89.964007    217   182\n",
       "35.205878, -80.841194     31    17\n",
       "35.262047, -80.865746     85    76\n",
       "35.492151, -97.519011    134   101\n",
       "37.754130, -122.437947   291   234\n",
       "38.567296, -121.456638   369   312\n",
       "38.919619, -77.015211    147    98\n",
       "39.739968, -104.954013   350   282\n",
       "39.993941, -75.143458    177   129\n",
       "40.324211, -111.674849     7     6\n",
       "40.361408, -86.186052    151    98\n",
       "40.623199, -73.951223     20    11\n",
       "40.643505, -73.939507    116    85\n",
       "40.708999, -73.872430    141   111\n",
       "40.774891, -111.930790   334   217\n",
       "41.484971, -81.671552    143   104\n",
       "41.845137, -87.660450    137   102\n",
       "42.330507, -71.074655    234   160\n",
       "42.379455, -83.115635    162   118\n",
       "42.982923, -71.446094   6159  5097\n",
       "43.062206, -87.944754    127    90\n",
       "43.717098, -79.395917    132   120\n",
       "45.539131, -122.651648   320   284\n",
       "46.667324, -94.419250    314   243\n",
       "47.633181, -122.308343   171   153\n",
       "49.250068, -123.114646    47    49"
      ]
     },
     "execution_count": 54,
     "metadata": {},
     "output_type": "execute_result"
    }
   ],
   "source": [
    "pd.crosstab(yds_data['lat/lng'],yds_data['is_goal'])"
   ]
  },
  {
   "cell_type": "code",
   "execution_count": 57,
   "metadata": {},
   "outputs": [
    {
     "data": {
      "text/plain": [
       "location_x             488\n",
       "location_y             450\n",
       "remaining_min           12\n",
       "power_of_shot            7\n",
       "knockout_match           2\n",
       "game_season             20\n",
       "remaining_sec           60\n",
       "distance_of_shot        73\n",
       "is_goal                  2\n",
       "area_of_shot             6\n",
       "shot_basics              7\n",
       "range_of_shot            5\n",
       "date_of_game          1558\n",
       "home/away               74\n",
       "lat/lng                 38\n",
       "remaining_min.1        291\n",
       "power_of_shot.1        206\n",
       "knockout_match.1       382\n",
       "remaining_sec.1        354\n",
       "distance_of_shot.1     271\n",
       "dtype: int64"
      ]
     },
     "execution_count": 57,
     "metadata": {},
     "output_type": "execute_result"
    }
   ],
   "source": [
    "yds_data.nunique()"
   ]
  },
  {
   "cell_type": "markdown",
   "metadata": {},
   "source": [
    "# Is in knockout_match, there are more goal instead of non-knockout_match?"
   ]
  },
  {
   "cell_type": "code",
   "execution_count": 60,
   "metadata": {},
   "outputs": [
    {
     "data": {
      "text/html": [
       "<div>\n",
       "<style scoped>\n",
       "    .dataframe tbody tr th:only-of-type {\n",
       "        vertical-align: middle;\n",
       "    }\n",
       "\n",
       "    .dataframe tbody tr th {\n",
       "        vertical-align: top;\n",
       "    }\n",
       "\n",
       "    .dataframe thead th {\n",
       "        text-align: right;\n",
       "    }\n",
       "</style>\n",
       "<table border=\"1\" class=\"dataframe\">\n",
       "  <thead>\n",
       "    <tr style=\"text-align: right;\">\n",
       "      <th>is_goal</th>\n",
       "      <th>0.0</th>\n",
       "      <th>1.0</th>\n",
       "    </tr>\n",
       "    <tr>\n",
       "      <th>knockout_match</th>\n",
       "      <th></th>\n",
       "      <th></th>\n",
       "    </tr>\n",
       "  </thead>\n",
       "  <tbody>\n",
       "    <tr>\n",
       "      <th>0.0</th>\n",
       "      <td>11025</td>\n",
       "      <td>8809</td>\n",
       "    </tr>\n",
       "    <tr>\n",
       "      <th>1.0</th>\n",
       "      <td>1875</td>\n",
       "      <td>1508</td>\n",
       "    </tr>\n",
       "  </tbody>\n",
       "</table>\n",
       "</div>"
      ],
      "text/plain": [
       "is_goal           0.0   1.0\n",
       "knockout_match             \n",
       "0.0             11025  8809\n",
       "1.0              1875  1508"
      ]
     },
     "execution_count": 60,
     "metadata": {},
     "output_type": "execute_result"
    }
   ],
   "source": [
    "pd.crosstab(yds_data['knockout_match'],yds_data['is_goal'])"
   ]
  },
  {
   "cell_type": "code",
   "execution_count": 59,
   "metadata": {},
   "outputs": [
    {
     "data": {
      "text/plain": [
       "<matplotlib.axes._subplots.AxesSubplot at 0x7fa2158c3410>"
      ]
     },
     "execution_count": 59,
     "metadata": {},
     "output_type": "execute_result"
    },
    {
     "data": {
      "image/png": "[encoded data removed]",
      "text/plain": [
       "<Figure size 432x288 with 1 Axes>"
      ]
     },
     "metadata": {
      "needs_background": "light"
     },
     "output_type": "display_data"
    }
   ],
   "source": [
    "pd.crosstab(yds_data['knockout_match'],yds_data['is_goal']).plot.bar()"
   ]
  },
  {
   "cell_type": "code",
   "execution_count": 73,
   "metadata": {},
   "outputs": [
    {
     "data": {
      "text/plain": [
       "44.41363315518806"
      ]
     },
     "execution_count": 73,
     "metadata": {},
     "output_type": "execute_result"
    }
   ],
   "source": [
    "x=len(yds_data[yds_data['knockout_match']==0.0][yds_data['is_goal']==1.0])\n",
    "y=len(yds_data[yds_data['knockout_match']==0.0][yds_data['is_goal']==0.0])\n",
    "(x/(x+y))*100"
   ]
  },
  {
   "cell_type": "code",
   "execution_count": 74,
   "metadata": {},
   "outputs": [
    {
     "data": {
      "text/plain": [
       "44.57582027785989"
      ]
     },
     "execution_count": 74,
     "metadata": {},
     "output_type": "execute_result"
    }
   ],
   "source": [
    "x=len(yds_data[yds_data['knockout_match']==1.0][yds_data['is_goal']==1.0])\n",
    "y=len(yds_data[yds_data['knockout_match']==1.0][yds_data['is_goal']==0.0])\n",
    "(x/(x+y))*100"
   ]
  },
  {
   "cell_type": "code",
   "execution_count": null,
   "metadata": {},
   "outputs": [],
   "source": [
    "'''There are more more no. of knockout_matches present. There is almost same success rate in knock_out\n",
    "and non-knockout match. '''"
   ]
  },
  {
   "cell_type": "markdown",
   "metadata": {},
   "source": [
    "# With which power of shot, maximum goal are done?"
   ]
  },
  {
   "cell_type": "code",
   "execution_count": 93,
   "metadata": {},
   "outputs": [
    {
     "data": {
      "text/plain": [
       "<matplotlib.axes._subplots.AxesSubplot at 0x7fa214b74e90>"
      ]
     },
     "execution_count": 93,
     "metadata": {},
     "output_type": "execute_result"
    },
    {
     "data": {
      "image/png": "[encoded data removed]",
      "text/plain": [
       "<Figure size 432x288 with 1 Axes>"
      ]
     },
     "metadata": {
      "needs_background": "light"
     },
     "output_type": "display_data"
    }
   ],
   "source": [
    "pd.crosstab(yds_data['power_of_shot'],yds_data['is_goal']).plot.bar()"
   ]
  },
  {
   "cell_type": "code",
   "execution_count": null,
   "metadata": {},
   "outputs": [],
   "source": [
    "'''power_of_shot 1 and 3 has score more goal. Infact, power_of_shot 1,2,3,4 hit more goal instead of 5,6 and 7\n",
    "   .'''"
   ]
  },
  {
   "cell_type": "code",
   "execution_count": 80,
   "metadata": {},
   "outputs": [],
   "source": [
    "x=len(yds_data[yds_data['power_of_shot']==1.0][yds_data['is_goal']==1.0])\n",
    "y=len(yds_data[yds_data['power_of_shot']==1.0][yds_data['is_goal']==0.0])\n",
    "x1 = (x/(x+y))*100"
   ]
  },
  {
   "cell_type": "code",
   "execution_count": 84,
   "metadata": {},
   "outputs": [],
   "source": [
    "x=len(yds_data[yds_data['power_of_shot']==2.0][yds_data['is_goal']==1.0])\n",
    "y=len(yds_data[yds_data['power_of_shot']==2.0][yds_data['is_goal']==0.0])\n",
    "x2 = (x/(x+y))*100"
   ]
  },
  {
   "cell_type": "code",
   "execution_count": 83,
   "metadata": {},
   "outputs": [],
   "source": [
    "x=len(yds_data[yds_data['power_of_shot']==3.0][yds_data['is_goal']==1.0])\n",
    "y=len(yds_data[yds_data['power_of_shot']==3.0][yds_data['is_goal']==0.0])\n",
    "x3 = (x/(x+y))*100"
   ]
  },
  {
   "cell_type": "code",
   "execution_count": 85,
   "metadata": {},
   "outputs": [],
   "source": [
    "x=len(yds_data[yds_data['power_of_shot']==4.0][yds_data['is_goal']==1.0])\n",
    "y=len(yds_data[yds_data['power_of_shot']==4.0][yds_data['is_goal']==0.0])\n",
    "x4 = (x/(x+y))*100"
   ]
  },
  {
   "cell_type": "code",
   "execution_count": 86,
   "metadata": {},
   "outputs": [],
   "source": [
    "x=len(yds_data[yds_data['power_of_shot']==5.0][yds_data['is_goal']==1.0])\n",
    "y=len(yds_data[yds_data['power_of_shot']==5.0][yds_data['is_goal']==0.0])\n",
    "x5 = (x/(x+y))*100"
   ]
  },
  {
   "cell_type": "code",
   "execution_count": 87,
   "metadata": {},
   "outputs": [],
   "source": [
    "x=len(yds_data[yds_data['power_of_shot']==6.0][yds_data['is_goal']==1.0])\n",
    "y=len(yds_data[yds_data['power_of_shot']==6.0][yds_data['is_goal']==0.0])\n",
    "x6 = (x/(x+y))*100"
   ]
  },
  {
   "cell_type": "code",
   "execution_count": 88,
   "metadata": {},
   "outputs": [],
   "source": [
    "x=len(yds_data[yds_data['power_of_shot']==7.0][yds_data['is_goal']==1.0])\n",
    "y=len(yds_data[yds_data['power_of_shot']==7.0][yds_data['is_goal']==0.0])\n",
    "x7 = (x/(x+y))*100"
   ]
  },
  {
   "cell_type": "code",
   "execution_count": 89,
   "metadata": {},
   "outputs": [
    {
     "data": {
      "text/plain": [
       "(46.58641160949868,\n",
       " 44.85062893081761,\n",
       " 45.290199809705044,\n",
       " 41.06165632980664,\n",
       " 44.31372549019608,\n",
       " 40.74074074074074,\n",
       " 42.857142857142854)"
      ]
     },
     "execution_count": 89,
     "metadata": {},
     "output_type": "execute_result"
    }
   ],
   "source": [
    "x1,x2,x3,x4,x5,x6,x7 #success rate is almost same."
   ]
  },
  {
   "cell_type": "code",
   "execution_count": 98,
   "metadata": {},
   "outputs": [
    {
     "data": {
      "text/plain": [
       "<matplotlib.axes._subplots.AxesSubplot at 0x7fa215645650>"
      ]
     },
     "execution_count": 98,
     "metadata": {},
     "output_type": "execute_result"
    },
    {
     "data": {
      "image/png": "[encoded data removed]",
      "text/plain": [
       "<Figure size 432x288 with 1 Axes>"
      ]
     },
     "metadata": {
      "needs_background": "light"
     },
     "output_type": "display_data"
    }
   ],
   "source": [
    "pd.crosstab(yds_data['shot_basics'],yds_data['is_goal']).plot.bar() #Mid range shot_basic has more shot"
   ]
  },
  {
   "cell_type": "code",
   "execution_count": 99,
   "metadata": {},
   "outputs": [
    {
     "data": {
      "text/plain": [
       "<matplotlib.axes._subplots.AxesSubplot at 0x7fa215625ad0>"
      ]
     },
     "execution_count": 99,
     "metadata": {},
     "output_type": "execute_result"
    },
    {
     "data": {
      "image/png": "[encoded data removed]",
      "text/plain": [
       "<Figure size 432x288 with 1 Axes>"
      ]
     },
     "metadata": {
      "needs_background": "light"
     },
     "output_type": "display_data"
    }
   ],
   "source": [
    "pd.crosstab(yds_data['area_of_shot'],yds_data['is_goal']).plot.bar() #There are more goal from Center \n",
    "# and less goal from Mid Ground(MG)"
   ]
  },
  {
   "cell_type": "code",
   "execution_count": 100,
   "metadata": {},
   "outputs": [
    {
     "data": {
      "text/plain": [
       "<matplotlib.axes._subplots.AxesSubplot at 0x7fa2155ae350>"
      ]
     },
     "execution_count": 100,
     "metadata": {},
     "output_type": "execute_result"
    },
    {
     "data": {
      "image/png": "[encoded data removed]",
      "text/plain": [
       "<Figure size 432x288 with 1 Axes>"
      ]
     },
     "metadata": {
      "needs_background": "light"
     },
     "output_type": "display_data"
    }
   ],
   "source": [
    "pd.crosstab(yds_data['range_of_shot'],yds_data['is_goal']).plot.bar() #More goal are scored from less than 8 fit."
   ]
  },
  {
   "cell_type": "code",
   "execution_count": 103,
   "metadata": {},
   "outputs": [
    {
     "data": {
      "text/plain": [
       "array([[<matplotlib.axes._subplots.AxesSubplot object at 0x7fa2148e3390>,\n",
       "        <matplotlib.axes._subplots.AxesSubplot object at 0x7fa2148d56d0>,\n",
       "        <matplotlib.axes._subplots.AxesSubplot object at 0x7fa214869750>,\n",
       "        <matplotlib.axes._subplots.AxesSubplot object at 0x7fa21481af50>],\n",
       "       [<matplotlib.axes._subplots.AxesSubplot object at 0x7fa2147dd790>,\n",
       "        <matplotlib.axes._subplots.AxesSubplot object at 0x7fa21478ef50>,\n",
       "        <matplotlib.axes._subplots.AxesSubplot object at 0x7fa21474f790>,\n",
       "        <matplotlib.axes._subplots.AxesSubplot object at 0x7fa214702f90>],\n",
       "       [<matplotlib.axes._subplots.AxesSubplot object at 0x7fa21470db10>,\n",
       "        <matplotlib.axes._subplots.AxesSubplot object at 0x7fa2146ce4d0>,\n",
       "        <matplotlib.axes._subplots.AxesSubplot object at 0x7fa214638810>,\n",
       "        <matplotlib.axes._subplots.AxesSubplot object at 0x7fa21466cf90>],\n",
       "       [<matplotlib.axes._subplots.AxesSubplot object at 0x7fa21462d850>,\n",
       "        <matplotlib.axes._subplots.AxesSubplot object at 0x7fa2145edbd0>,\n",
       "        <matplotlib.axes._subplots.AxesSubplot object at 0x7fa2145a5890>,\n",
       "        <matplotlib.axes._subplots.AxesSubplot object at 0x7fa214561c10>]],\n",
       "      dtype=object)"
      ]
     },
     "execution_count": 103,
     "metadata": {},
     "output_type": "execute_result"
    },
    {
     "data": {
      "image/png": "[encoded data removed]",
      "text/plain": [
       "<Figure size 1440x720 with 16 Axes>"
      ]
     },
     "metadata": {
      "needs_background": "light"
     },
     "output_type": "display_data"
    }
   ],
   "source": [
    "yds_data.hist(figsize = (20,10))"
   ]
  },
  {
   "cell_type": "code",
   "execution_count": null,
   "metadata": {},
   "outputs": [],
   "source": [
    "'''remaining_sec.1 is about in range 0 to 50, remaining_sec is about 0 to 55.\n",
    "   remaining_min is 0 t0 10 and remaining_min.1 is 0 to 12\n",
    "   We should combine these columns.'''"
   ]
  },
  {
   "cell_type": "code",
   "execution_count": 105,
   "metadata": {},
   "outputs": [],
   "source": [
    "yds_data['rem_sec'] = yds_data['remaining_min']*60+yds_data['remaining_sec']"
   ]
  },
  {
   "cell_type": "code",
   "execution_count": 106,
   "metadata": {},
   "outputs": [],
   "source": [
    "yds_data['rem_sec.1'] = yds_data['remaining_min.1']*60+yds_data['remaining_sec.1']"
   ]
  },
  {
   "cell_type": "code",
   "execution_count": 108,
   "metadata": {},
   "outputs": [
    {
     "data": {
      "text/plain": [
       "location_x            float64\n",
       "location_y            float64\n",
       "remaining_min         float64\n",
       "power_of_shot         float64\n",
       "knockout_match        float64\n",
       "game_season            object\n",
       "remaining_sec         float64\n",
       "distance_of_shot      float64\n",
       "is_goal               float64\n",
       "area_of_shot           object\n",
       "shot_basics            object\n",
       "range_of_shot          object\n",
       "home/away              object\n",
       "lat/lng                object\n",
       "remaining_min.1       float64\n",
       "power_of_shot.1       float64\n",
       "knockout_match.1      float64\n",
       "remaining_sec.1       float64\n",
       "distance_of_shot.1    float64\n",
       "rem_sec               float64\n",
       "rem_sec.1             float64\n",
       "dtype: object"
      ]
     },
     "execution_count": 108,
     "metadata": {},
     "output_type": "execute_result"
    }
   ],
   "source": [
    "yds_data.dtypes"
   ]
  },
  {
   "cell_type": "code",
   "execution_count": 109,
   "metadata": {},
   "outputs": [],
   "source": [
    "#Now these columns has no use.\n",
    "columns = ['remaining_sec','remaining_min','remaining_min.1','remaining_sec.1']\n",
    "yds_data.drop(columns,inplace = True, axis = 1)"
   ]
  },
  {
   "cell_type": "code",
   "execution_count": 110,
   "metadata": {},
   "outputs": [
    {
     "data": {
      "text/plain": [
       "location_x            float64\n",
       "location_y            float64\n",
       "power_of_shot         float64\n",
       "knockout_match        float64\n",
       "game_season            object\n",
       "distance_of_shot      float64\n",
       "is_goal               float64\n",
       "area_of_shot           object\n",
       "shot_basics            object\n",
       "range_of_shot          object\n",
       "home/away              object\n",
       "lat/lng                object\n",
       "power_of_shot.1       float64\n",
       "knockout_match.1      float64\n",
       "distance_of_shot.1    float64\n",
       "rem_sec               float64\n",
       "rem_sec.1             float64\n",
       "dtype: object"
      ]
     },
     "execution_count": 110,
     "metadata": {},
     "output_type": "execute_result"
    }
   ],
   "source": [
    "yds_data.dtypes"
   ]
  },
  {
   "cell_type": "code",
   "execution_count": 112,
   "metadata": {},
   "outputs": [
    {
     "data": {
      "text/plain": [
       "<matplotlib.axes._subplots.AxesSubplot at 0x7fa20ffc0290>"
      ]
     },
     "execution_count": 112,
     "metadata": {},
     "output_type": "execute_result"
    },
    {
     "data": {
      "image/png": "[encoded data removed]",
      "text/plain": [
       "<Figure size 1440x720 with 1 Axes>"
      ]
     },
     "metadata": {
      "needs_background": "light"
     },
     "output_type": "display_data"
    }
   ],
   "source": [
    "yds_data.plot.box(figsize = (20,10))"
   ]
  },
  {
   "cell_type": "code",
   "execution_count": null,
   "metadata": {},
   "outputs": [],
   "source": [
    "#There are outlier present in the data."
   ]
  }
 ],
 "metadata": {
  "kernelspec": {
   "display_name": "Python 3",
   "language": "python",
   "name": "python3"
  },
  "language_info": {
   "codemirror_mode": {
    "name": "ipython",
    "version": 3
   },
   "file_extension": ".py",
   "mimetype": "text/x-python",
   "name": "python",
   "nbconvert_exporter": "python",
   "pygments_lexer": "ipython3",
   "version": "3.7.6"
  }
 },
 "nbformat": 4,
 "nbformat_minor": 4
}
